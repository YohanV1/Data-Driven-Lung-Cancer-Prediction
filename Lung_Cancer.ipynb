{
 "cells": [
  {
   "cell_type": "markdown",
   "id": "33e831de",
   "metadata": {},
   "source": [
    "# EDA"
   ]
  },
  {
   "cell_type": "code",
   "execution_count": 1,
   "id": "e83a44ba",
   "metadata": {},
   "outputs": [
    {
     "data": {
      "text/html": [
       "<div>\n",
       "<style scoped>\n",
       "    .dataframe tbody tr th:only-of-type {\n",
       "        vertical-align: middle;\n",
       "    }\n",
       "\n",
       "    .dataframe tbody tr th {\n",
       "        vertical-align: top;\n",
       "    }\n",
       "\n",
       "    .dataframe thead th {\n",
       "        text-align: right;\n",
       "    }\n",
       "</style>\n",
       "<table border=\"1\" class=\"dataframe\">\n",
       "  <thead>\n",
       "    <tr style=\"text-align: right;\">\n",
       "      <th></th>\n",
       "      <th>index</th>\n",
       "      <th>Patient Id</th>\n",
       "      <th>Age</th>\n",
       "      <th>Gender</th>\n",
       "      <th>Air Pollution</th>\n",
       "      <th>Alcohol use</th>\n",
       "      <th>Dust Allergy</th>\n",
       "      <th>OccuPational Hazards</th>\n",
       "      <th>Genetic Risk</th>\n",
       "      <th>chronic Lung Disease</th>\n",
       "      <th>...</th>\n",
       "      <th>Fatigue</th>\n",
       "      <th>Weight Loss</th>\n",
       "      <th>Shortness of Breath</th>\n",
       "      <th>Wheezing</th>\n",
       "      <th>Swallowing Difficulty</th>\n",
       "      <th>Clubbing of Finger Nails</th>\n",
       "      <th>Frequent Cold</th>\n",
       "      <th>Dry Cough</th>\n",
       "      <th>Snoring</th>\n",
       "      <th>Level</th>\n",
       "    </tr>\n",
       "  </thead>\n",
       "  <tbody>\n",
       "    <tr>\n",
       "      <th>0</th>\n",
       "      <td>0</td>\n",
       "      <td>P1</td>\n",
       "      <td>33</td>\n",
       "      <td>1</td>\n",
       "      <td>2</td>\n",
       "      <td>4</td>\n",
       "      <td>5</td>\n",
       "      <td>4</td>\n",
       "      <td>3</td>\n",
       "      <td>2</td>\n",
       "      <td>...</td>\n",
       "      <td>3</td>\n",
       "      <td>4</td>\n",
       "      <td>2</td>\n",
       "      <td>2</td>\n",
       "      <td>3</td>\n",
       "      <td>1</td>\n",
       "      <td>2</td>\n",
       "      <td>3</td>\n",
       "      <td>4</td>\n",
       "      <td>Low</td>\n",
       "    </tr>\n",
       "    <tr>\n",
       "      <th>1</th>\n",
       "      <td>1</td>\n",
       "      <td>P10</td>\n",
       "      <td>17</td>\n",
       "      <td>1</td>\n",
       "      <td>3</td>\n",
       "      <td>1</td>\n",
       "      <td>5</td>\n",
       "      <td>3</td>\n",
       "      <td>4</td>\n",
       "      <td>2</td>\n",
       "      <td>...</td>\n",
       "      <td>1</td>\n",
       "      <td>3</td>\n",
       "      <td>7</td>\n",
       "      <td>8</td>\n",
       "      <td>6</td>\n",
       "      <td>2</td>\n",
       "      <td>1</td>\n",
       "      <td>7</td>\n",
       "      <td>2</td>\n",
       "      <td>Medium</td>\n",
       "    </tr>\n",
       "    <tr>\n",
       "      <th>2</th>\n",
       "      <td>2</td>\n",
       "      <td>P100</td>\n",
       "      <td>35</td>\n",
       "      <td>1</td>\n",
       "      <td>4</td>\n",
       "      <td>5</td>\n",
       "      <td>6</td>\n",
       "      <td>5</td>\n",
       "      <td>5</td>\n",
       "      <td>4</td>\n",
       "      <td>...</td>\n",
       "      <td>8</td>\n",
       "      <td>7</td>\n",
       "      <td>9</td>\n",
       "      <td>2</td>\n",
       "      <td>1</td>\n",
       "      <td>4</td>\n",
       "      <td>6</td>\n",
       "      <td>7</td>\n",
       "      <td>2</td>\n",
       "      <td>High</td>\n",
       "    </tr>\n",
       "    <tr>\n",
       "      <th>3</th>\n",
       "      <td>3</td>\n",
       "      <td>P1000</td>\n",
       "      <td>37</td>\n",
       "      <td>1</td>\n",
       "      <td>7</td>\n",
       "      <td>7</td>\n",
       "      <td>7</td>\n",
       "      <td>7</td>\n",
       "      <td>6</td>\n",
       "      <td>7</td>\n",
       "      <td>...</td>\n",
       "      <td>4</td>\n",
       "      <td>2</td>\n",
       "      <td>3</td>\n",
       "      <td>1</td>\n",
       "      <td>4</td>\n",
       "      <td>5</td>\n",
       "      <td>6</td>\n",
       "      <td>7</td>\n",
       "      <td>5</td>\n",
       "      <td>High</td>\n",
       "    </tr>\n",
       "    <tr>\n",
       "      <th>4</th>\n",
       "      <td>4</td>\n",
       "      <td>P101</td>\n",
       "      <td>46</td>\n",
       "      <td>1</td>\n",
       "      <td>6</td>\n",
       "      <td>8</td>\n",
       "      <td>7</td>\n",
       "      <td>7</td>\n",
       "      <td>7</td>\n",
       "      <td>6</td>\n",
       "      <td>...</td>\n",
       "      <td>3</td>\n",
       "      <td>2</td>\n",
       "      <td>4</td>\n",
       "      <td>1</td>\n",
       "      <td>4</td>\n",
       "      <td>2</td>\n",
       "      <td>4</td>\n",
       "      <td>2</td>\n",
       "      <td>3</td>\n",
       "      <td>High</td>\n",
       "    </tr>\n",
       "    <tr>\n",
       "      <th>...</th>\n",
       "      <td>...</td>\n",
       "      <td>...</td>\n",
       "      <td>...</td>\n",
       "      <td>...</td>\n",
       "      <td>...</td>\n",
       "      <td>...</td>\n",
       "      <td>...</td>\n",
       "      <td>...</td>\n",
       "      <td>...</td>\n",
       "      <td>...</td>\n",
       "      <td>...</td>\n",
       "      <td>...</td>\n",
       "      <td>...</td>\n",
       "      <td>...</td>\n",
       "      <td>...</td>\n",
       "      <td>...</td>\n",
       "      <td>...</td>\n",
       "      <td>...</td>\n",
       "      <td>...</td>\n",
       "      <td>...</td>\n",
       "      <td>...</td>\n",
       "    </tr>\n",
       "    <tr>\n",
       "      <th>995</th>\n",
       "      <td>995</td>\n",
       "      <td>P995</td>\n",
       "      <td>44</td>\n",
       "      <td>1</td>\n",
       "      <td>6</td>\n",
       "      <td>7</td>\n",
       "      <td>7</td>\n",
       "      <td>7</td>\n",
       "      <td>7</td>\n",
       "      <td>6</td>\n",
       "      <td>...</td>\n",
       "      <td>5</td>\n",
       "      <td>3</td>\n",
       "      <td>2</td>\n",
       "      <td>7</td>\n",
       "      <td>8</td>\n",
       "      <td>2</td>\n",
       "      <td>4</td>\n",
       "      <td>5</td>\n",
       "      <td>3</td>\n",
       "      <td>High</td>\n",
       "    </tr>\n",
       "    <tr>\n",
       "      <th>996</th>\n",
       "      <td>996</td>\n",
       "      <td>P996</td>\n",
       "      <td>37</td>\n",
       "      <td>2</td>\n",
       "      <td>6</td>\n",
       "      <td>8</td>\n",
       "      <td>7</td>\n",
       "      <td>7</td>\n",
       "      <td>7</td>\n",
       "      <td>6</td>\n",
       "      <td>...</td>\n",
       "      <td>9</td>\n",
       "      <td>6</td>\n",
       "      <td>5</td>\n",
       "      <td>7</td>\n",
       "      <td>2</td>\n",
       "      <td>4</td>\n",
       "      <td>3</td>\n",
       "      <td>1</td>\n",
       "      <td>4</td>\n",
       "      <td>High</td>\n",
       "    </tr>\n",
       "    <tr>\n",
       "      <th>997</th>\n",
       "      <td>997</td>\n",
       "      <td>P997</td>\n",
       "      <td>25</td>\n",
       "      <td>2</td>\n",
       "      <td>4</td>\n",
       "      <td>5</td>\n",
       "      <td>6</td>\n",
       "      <td>5</td>\n",
       "      <td>5</td>\n",
       "      <td>4</td>\n",
       "      <td>...</td>\n",
       "      <td>8</td>\n",
       "      <td>7</td>\n",
       "      <td>9</td>\n",
       "      <td>2</td>\n",
       "      <td>1</td>\n",
       "      <td>4</td>\n",
       "      <td>6</td>\n",
       "      <td>7</td>\n",
       "      <td>2</td>\n",
       "      <td>High</td>\n",
       "    </tr>\n",
       "    <tr>\n",
       "      <th>998</th>\n",
       "      <td>998</td>\n",
       "      <td>P998</td>\n",
       "      <td>18</td>\n",
       "      <td>2</td>\n",
       "      <td>6</td>\n",
       "      <td>8</td>\n",
       "      <td>7</td>\n",
       "      <td>7</td>\n",
       "      <td>7</td>\n",
       "      <td>6</td>\n",
       "      <td>...</td>\n",
       "      <td>3</td>\n",
       "      <td>2</td>\n",
       "      <td>4</td>\n",
       "      <td>1</td>\n",
       "      <td>4</td>\n",
       "      <td>2</td>\n",
       "      <td>4</td>\n",
       "      <td>2</td>\n",
       "      <td>3</td>\n",
       "      <td>High</td>\n",
       "    </tr>\n",
       "    <tr>\n",
       "      <th>999</th>\n",
       "      <td>999</td>\n",
       "      <td>P999</td>\n",
       "      <td>47</td>\n",
       "      <td>1</td>\n",
       "      <td>6</td>\n",
       "      <td>5</td>\n",
       "      <td>6</td>\n",
       "      <td>5</td>\n",
       "      <td>5</td>\n",
       "      <td>4</td>\n",
       "      <td>...</td>\n",
       "      <td>8</td>\n",
       "      <td>7</td>\n",
       "      <td>9</td>\n",
       "      <td>2</td>\n",
       "      <td>1</td>\n",
       "      <td>4</td>\n",
       "      <td>6</td>\n",
       "      <td>7</td>\n",
       "      <td>2</td>\n",
       "      <td>High</td>\n",
       "    </tr>\n",
       "  </tbody>\n",
       "</table>\n",
       "<p>1000 rows × 26 columns</p>\n",
       "</div>"
      ],
      "text/plain": [
       "     index Patient Id  Age  Gender  Air Pollution  Alcohol use  Dust Allergy  \\\n",
       "0        0         P1   33       1              2            4             5   \n",
       "1        1        P10   17       1              3            1             5   \n",
       "2        2       P100   35       1              4            5             6   \n",
       "3        3      P1000   37       1              7            7             7   \n",
       "4        4       P101   46       1              6            8             7   \n",
       "..     ...        ...  ...     ...            ...          ...           ...   \n",
       "995    995       P995   44       1              6            7             7   \n",
       "996    996       P996   37       2              6            8             7   \n",
       "997    997       P997   25       2              4            5             6   \n",
       "998    998       P998   18       2              6            8             7   \n",
       "999    999       P999   47       1              6            5             6   \n",
       "\n",
       "     OccuPational Hazards  Genetic Risk  chronic Lung Disease  ...  Fatigue  \\\n",
       "0                       4             3                     2  ...        3   \n",
       "1                       3             4                     2  ...        1   \n",
       "2                       5             5                     4  ...        8   \n",
       "3                       7             6                     7  ...        4   \n",
       "4                       7             7                     6  ...        3   \n",
       "..                    ...           ...                   ...  ...      ...   \n",
       "995                     7             7                     6  ...        5   \n",
       "996                     7             7                     6  ...        9   \n",
       "997                     5             5                     4  ...        8   \n",
       "998                     7             7                     6  ...        3   \n",
       "999                     5             5                     4  ...        8   \n",
       "\n",
       "     Weight Loss  Shortness of Breath  Wheezing  Swallowing Difficulty  \\\n",
       "0              4                    2         2                      3   \n",
       "1              3                    7         8                      6   \n",
       "2              7                    9         2                      1   \n",
       "3              2                    3         1                      4   \n",
       "4              2                    4         1                      4   \n",
       "..           ...                  ...       ...                    ...   \n",
       "995            3                    2         7                      8   \n",
       "996            6                    5         7                      2   \n",
       "997            7                    9         2                      1   \n",
       "998            2                    4         1                      4   \n",
       "999            7                    9         2                      1   \n",
       "\n",
       "     Clubbing of Finger Nails  Frequent Cold  Dry Cough  Snoring   Level  \n",
       "0                           1              2          3        4     Low  \n",
       "1                           2              1          7        2  Medium  \n",
       "2                           4              6          7        2    High  \n",
       "3                           5              6          7        5    High  \n",
       "4                           2              4          2        3    High  \n",
       "..                        ...            ...        ...      ...     ...  \n",
       "995                         2              4          5        3    High  \n",
       "996                         4              3          1        4    High  \n",
       "997                         4              6          7        2    High  \n",
       "998                         2              4          2        3    High  \n",
       "999                         4              6          7        2    High  \n",
       "\n",
       "[1000 rows x 26 columns]"
      ]
     },
     "execution_count": 1,
     "metadata": {},
     "output_type": "execute_result"
    }
   ],
   "source": [
    "import numpy as np\n",
    "import pandas as pd\n",
    "import matplotlib.pyplot as plt\n",
    "import seaborn as sns\n",
    "import warnings\n",
    "df=pd.read_csv(\"cancer patient data sets.csv\")\n",
    "df"
   ]
  },
  {
   "cell_type": "code",
   "execution_count": 2,
   "id": "98765415",
   "metadata": {},
   "outputs": [
    {
     "data": {
      "text/plain": [
       "(1, 9)"
      ]
     },
     "execution_count": 2,
     "metadata": {},
     "output_type": "execute_result"
    }
   ],
   "source": [
    "column_range = (df['Coughing of Blood'].min(), df['Coughing of Blood'].max())\n",
    "column_range"
   ]
  },
  {
   "cell_type": "code",
   "execution_count": 3,
   "id": "2f678042",
   "metadata": {},
   "outputs": [],
   "source": [
    "df=df.drop(['index','Patient Id'],axis=1)"
   ]
  },
  {
   "cell_type": "code",
   "execution_count": 4,
   "id": "a9c3aa23",
   "metadata": {},
   "outputs": [
    {
     "data": {
      "text/plain": [
       "Age                         0\n",
       "Gender                      0\n",
       "Air Pollution               0\n",
       "Alcohol use                 0\n",
       "Dust Allergy                0\n",
       "OccuPational Hazards        0\n",
       "Genetic Risk                0\n",
       "chronic Lung Disease        0\n",
       "Balanced Diet               0\n",
       "Obesity                     0\n",
       "Smoking                     0\n",
       "Passive Smoker              0\n",
       "Chest Pain                  0\n",
       "Coughing of Blood           0\n",
       "Fatigue                     0\n",
       "Weight Loss                 0\n",
       "Shortness of Breath         0\n",
       "Wheezing                    0\n",
       "Swallowing Difficulty       0\n",
       "Clubbing of Finger Nails    0\n",
       "Frequent Cold               0\n",
       "Dry Cough                   0\n",
       "Snoring                     0\n",
       "Level                       0\n",
       "dtype: int64"
      ]
     },
     "execution_count": 4,
     "metadata": {},
     "output_type": "execute_result"
    }
   ],
   "source": [
    "df.isnull().sum()"
   ]
  },
  {
   "cell_type": "code",
   "execution_count": 5,
   "id": "64bfce43",
   "metadata": {},
   "outputs": [
    {
     "data": {
      "text/html": [
       "<div>\n",
       "<style scoped>\n",
       "    .dataframe tbody tr th:only-of-type {\n",
       "        vertical-align: middle;\n",
       "    }\n",
       "\n",
       "    .dataframe tbody tr th {\n",
       "        vertical-align: top;\n",
       "    }\n",
       "\n",
       "    .dataframe thead th {\n",
       "        text-align: right;\n",
       "    }\n",
       "</style>\n",
       "<table border=\"1\" class=\"dataframe\">\n",
       "  <thead>\n",
       "    <tr style=\"text-align: right;\">\n",
       "      <th></th>\n",
       "      <th>Age</th>\n",
       "      <th>Gender</th>\n",
       "      <th>Air Pollution</th>\n",
       "      <th>Alcohol use</th>\n",
       "      <th>Dust Allergy</th>\n",
       "      <th>OccuPational Hazards</th>\n",
       "      <th>Genetic Risk</th>\n",
       "      <th>chronic Lung Disease</th>\n",
       "      <th>Balanced Diet</th>\n",
       "      <th>Obesity</th>\n",
       "      <th>...</th>\n",
       "      <th>Fatigue</th>\n",
       "      <th>Weight Loss</th>\n",
       "      <th>Shortness of Breath</th>\n",
       "      <th>Wheezing</th>\n",
       "      <th>Swallowing Difficulty</th>\n",
       "      <th>Clubbing of Finger Nails</th>\n",
       "      <th>Frequent Cold</th>\n",
       "      <th>Dry Cough</th>\n",
       "      <th>Snoring</th>\n",
       "      <th>Level</th>\n",
       "    </tr>\n",
       "  </thead>\n",
       "  <tbody>\n",
       "    <tr>\n",
       "      <th>0</th>\n",
       "      <td>33</td>\n",
       "      <td>1</td>\n",
       "      <td>2</td>\n",
       "      <td>4</td>\n",
       "      <td>5</td>\n",
       "      <td>4</td>\n",
       "      <td>3</td>\n",
       "      <td>2</td>\n",
       "      <td>2</td>\n",
       "      <td>4</td>\n",
       "      <td>...</td>\n",
       "      <td>3</td>\n",
       "      <td>4</td>\n",
       "      <td>2</td>\n",
       "      <td>2</td>\n",
       "      <td>3</td>\n",
       "      <td>1</td>\n",
       "      <td>2</td>\n",
       "      <td>3</td>\n",
       "      <td>4</td>\n",
       "      <td>Low</td>\n",
       "    </tr>\n",
       "    <tr>\n",
       "      <th>1</th>\n",
       "      <td>17</td>\n",
       "      <td>1</td>\n",
       "      <td>3</td>\n",
       "      <td>1</td>\n",
       "      <td>5</td>\n",
       "      <td>3</td>\n",
       "      <td>4</td>\n",
       "      <td>2</td>\n",
       "      <td>2</td>\n",
       "      <td>2</td>\n",
       "      <td>...</td>\n",
       "      <td>1</td>\n",
       "      <td>3</td>\n",
       "      <td>7</td>\n",
       "      <td>8</td>\n",
       "      <td>6</td>\n",
       "      <td>2</td>\n",
       "      <td>1</td>\n",
       "      <td>7</td>\n",
       "      <td>2</td>\n",
       "      <td>Medium</td>\n",
       "    </tr>\n",
       "    <tr>\n",
       "      <th>2</th>\n",
       "      <td>35</td>\n",
       "      <td>1</td>\n",
       "      <td>4</td>\n",
       "      <td>5</td>\n",
       "      <td>6</td>\n",
       "      <td>5</td>\n",
       "      <td>5</td>\n",
       "      <td>4</td>\n",
       "      <td>6</td>\n",
       "      <td>7</td>\n",
       "      <td>...</td>\n",
       "      <td>8</td>\n",
       "      <td>7</td>\n",
       "      <td>9</td>\n",
       "      <td>2</td>\n",
       "      <td>1</td>\n",
       "      <td>4</td>\n",
       "      <td>6</td>\n",
       "      <td>7</td>\n",
       "      <td>2</td>\n",
       "      <td>High</td>\n",
       "    </tr>\n",
       "    <tr>\n",
       "      <th>3</th>\n",
       "      <td>37</td>\n",
       "      <td>1</td>\n",
       "      <td>7</td>\n",
       "      <td>7</td>\n",
       "      <td>7</td>\n",
       "      <td>7</td>\n",
       "      <td>6</td>\n",
       "      <td>7</td>\n",
       "      <td>7</td>\n",
       "      <td>7</td>\n",
       "      <td>...</td>\n",
       "      <td>4</td>\n",
       "      <td>2</td>\n",
       "      <td>3</td>\n",
       "      <td>1</td>\n",
       "      <td>4</td>\n",
       "      <td>5</td>\n",
       "      <td>6</td>\n",
       "      <td>7</td>\n",
       "      <td>5</td>\n",
       "      <td>High</td>\n",
       "    </tr>\n",
       "    <tr>\n",
       "      <th>4</th>\n",
       "      <td>46</td>\n",
       "      <td>1</td>\n",
       "      <td>6</td>\n",
       "      <td>8</td>\n",
       "      <td>7</td>\n",
       "      <td>7</td>\n",
       "      <td>7</td>\n",
       "      <td>6</td>\n",
       "      <td>7</td>\n",
       "      <td>7</td>\n",
       "      <td>...</td>\n",
       "      <td>3</td>\n",
       "      <td>2</td>\n",
       "      <td>4</td>\n",
       "      <td>1</td>\n",
       "      <td>4</td>\n",
       "      <td>2</td>\n",
       "      <td>4</td>\n",
       "      <td>2</td>\n",
       "      <td>3</td>\n",
       "      <td>High</td>\n",
       "    </tr>\n",
       "  </tbody>\n",
       "</table>\n",
       "<p>5 rows × 24 columns</p>\n",
       "</div>"
      ],
      "text/plain": [
       "   Age  Gender  Air Pollution  Alcohol use  Dust Allergy  \\\n",
       "0   33       1              2            4             5   \n",
       "1   17       1              3            1             5   \n",
       "2   35       1              4            5             6   \n",
       "3   37       1              7            7             7   \n",
       "4   46       1              6            8             7   \n",
       "\n",
       "   OccuPational Hazards  Genetic Risk  chronic Lung Disease  Balanced Diet  \\\n",
       "0                     4             3                     2              2   \n",
       "1                     3             4                     2              2   \n",
       "2                     5             5                     4              6   \n",
       "3                     7             6                     7              7   \n",
       "4                     7             7                     6              7   \n",
       "\n",
       "   Obesity  ...  Fatigue  Weight Loss  Shortness of Breath  Wheezing  \\\n",
       "0        4  ...        3            4                    2         2   \n",
       "1        2  ...        1            3                    7         8   \n",
       "2        7  ...        8            7                    9         2   \n",
       "3        7  ...        4            2                    3         1   \n",
       "4        7  ...        3            2                    4         1   \n",
       "\n",
       "   Swallowing Difficulty  Clubbing of Finger Nails  Frequent Cold  Dry Cough  \\\n",
       "0                      3                         1              2          3   \n",
       "1                      6                         2              1          7   \n",
       "2                      1                         4              6          7   \n",
       "3                      4                         5              6          7   \n",
       "4                      4                         2              4          2   \n",
       "\n",
       "   Snoring   Level  \n",
       "0        4     Low  \n",
       "1        2  Medium  \n",
       "2        2    High  \n",
       "3        5    High  \n",
       "4        3    High  \n",
       "\n",
       "[5 rows x 24 columns]"
      ]
     },
     "execution_count": 5,
     "metadata": {},
     "output_type": "execute_result"
    }
   ],
   "source": [
    "df.head()"
   ]
  },
  {
   "cell_type": "code",
   "execution_count": 6,
   "id": "6e8107a7",
   "metadata": {},
   "outputs": [
    {
     "data": {
      "text/html": [
       "<div>\n",
       "<style scoped>\n",
       "    .dataframe tbody tr th:only-of-type {\n",
       "        vertical-align: middle;\n",
       "    }\n",
       "\n",
       "    .dataframe tbody tr th {\n",
       "        vertical-align: top;\n",
       "    }\n",
       "\n",
       "    .dataframe thead th {\n",
       "        text-align: right;\n",
       "    }\n",
       "</style>\n",
       "<table border=\"1\" class=\"dataframe\">\n",
       "  <thead>\n",
       "    <tr style=\"text-align: right;\">\n",
       "      <th></th>\n",
       "      <th>Age</th>\n",
       "      <th>Gender</th>\n",
       "      <th>Air Pollution</th>\n",
       "      <th>Alcohol use</th>\n",
       "      <th>Dust Allergy</th>\n",
       "      <th>OccuPational Hazards</th>\n",
       "      <th>Genetic Risk</th>\n",
       "      <th>chronic Lung Disease</th>\n",
       "      <th>Balanced Diet</th>\n",
       "      <th>Obesity</th>\n",
       "      <th>...</th>\n",
       "      <th>Fatigue</th>\n",
       "      <th>Weight Loss</th>\n",
       "      <th>Shortness of Breath</th>\n",
       "      <th>Wheezing</th>\n",
       "      <th>Swallowing Difficulty</th>\n",
       "      <th>Clubbing of Finger Nails</th>\n",
       "      <th>Frequent Cold</th>\n",
       "      <th>Dry Cough</th>\n",
       "      <th>Snoring</th>\n",
       "      <th>Level</th>\n",
       "    </tr>\n",
       "  </thead>\n",
       "  <tbody>\n",
       "    <tr>\n",
       "      <th>0</th>\n",
       "      <td>33</td>\n",
       "      <td>1</td>\n",
       "      <td>2</td>\n",
       "      <td>4</td>\n",
       "      <td>5</td>\n",
       "      <td>4</td>\n",
       "      <td>3</td>\n",
       "      <td>2</td>\n",
       "      <td>2</td>\n",
       "      <td>4</td>\n",
       "      <td>...</td>\n",
       "      <td>3</td>\n",
       "      <td>4</td>\n",
       "      <td>2</td>\n",
       "      <td>2</td>\n",
       "      <td>3</td>\n",
       "      <td>1</td>\n",
       "      <td>2</td>\n",
       "      <td>3</td>\n",
       "      <td>4</td>\n",
       "      <td>1</td>\n",
       "    </tr>\n",
       "    <tr>\n",
       "      <th>1</th>\n",
       "      <td>17</td>\n",
       "      <td>1</td>\n",
       "      <td>3</td>\n",
       "      <td>1</td>\n",
       "      <td>5</td>\n",
       "      <td>3</td>\n",
       "      <td>4</td>\n",
       "      <td>2</td>\n",
       "      <td>2</td>\n",
       "      <td>2</td>\n",
       "      <td>...</td>\n",
       "      <td>1</td>\n",
       "      <td>3</td>\n",
       "      <td>7</td>\n",
       "      <td>8</td>\n",
       "      <td>6</td>\n",
       "      <td>2</td>\n",
       "      <td>1</td>\n",
       "      <td>7</td>\n",
       "      <td>2</td>\n",
       "      <td>2</td>\n",
       "    </tr>\n",
       "    <tr>\n",
       "      <th>2</th>\n",
       "      <td>35</td>\n",
       "      <td>1</td>\n",
       "      <td>4</td>\n",
       "      <td>5</td>\n",
       "      <td>6</td>\n",
       "      <td>5</td>\n",
       "      <td>5</td>\n",
       "      <td>4</td>\n",
       "      <td>6</td>\n",
       "      <td>7</td>\n",
       "      <td>...</td>\n",
       "      <td>8</td>\n",
       "      <td>7</td>\n",
       "      <td>9</td>\n",
       "      <td>2</td>\n",
       "      <td>1</td>\n",
       "      <td>4</td>\n",
       "      <td>6</td>\n",
       "      <td>7</td>\n",
       "      <td>2</td>\n",
       "      <td>3</td>\n",
       "    </tr>\n",
       "    <tr>\n",
       "      <th>3</th>\n",
       "      <td>37</td>\n",
       "      <td>1</td>\n",
       "      <td>7</td>\n",
       "      <td>7</td>\n",
       "      <td>7</td>\n",
       "      <td>7</td>\n",
       "      <td>6</td>\n",
       "      <td>7</td>\n",
       "      <td>7</td>\n",
       "      <td>7</td>\n",
       "      <td>...</td>\n",
       "      <td>4</td>\n",
       "      <td>2</td>\n",
       "      <td>3</td>\n",
       "      <td>1</td>\n",
       "      <td>4</td>\n",
       "      <td>5</td>\n",
       "      <td>6</td>\n",
       "      <td>7</td>\n",
       "      <td>5</td>\n",
       "      <td>3</td>\n",
       "    </tr>\n",
       "    <tr>\n",
       "      <th>4</th>\n",
       "      <td>46</td>\n",
       "      <td>1</td>\n",
       "      <td>6</td>\n",
       "      <td>8</td>\n",
       "      <td>7</td>\n",
       "      <td>7</td>\n",
       "      <td>7</td>\n",
       "      <td>6</td>\n",
       "      <td>7</td>\n",
       "      <td>7</td>\n",
       "      <td>...</td>\n",
       "      <td>3</td>\n",
       "      <td>2</td>\n",
       "      <td>4</td>\n",
       "      <td>1</td>\n",
       "      <td>4</td>\n",
       "      <td>2</td>\n",
       "      <td>4</td>\n",
       "      <td>2</td>\n",
       "      <td>3</td>\n",
       "      <td>3</td>\n",
       "    </tr>\n",
       "  </tbody>\n",
       "</table>\n",
       "<p>5 rows × 24 columns</p>\n",
       "</div>"
      ],
      "text/plain": [
       "   Age  Gender  Air Pollution  Alcohol use  Dust Allergy  \\\n",
       "0   33       1              2            4             5   \n",
       "1   17       1              3            1             5   \n",
       "2   35       1              4            5             6   \n",
       "3   37       1              7            7             7   \n",
       "4   46       1              6            8             7   \n",
       "\n",
       "   OccuPational Hazards  Genetic Risk  chronic Lung Disease  Balanced Diet  \\\n",
       "0                     4             3                     2              2   \n",
       "1                     3             4                     2              2   \n",
       "2                     5             5                     4              6   \n",
       "3                     7             6                     7              7   \n",
       "4                     7             7                     6              7   \n",
       "\n",
       "   Obesity  ...  Fatigue  Weight Loss  Shortness of Breath  Wheezing  \\\n",
       "0        4  ...        3            4                    2         2   \n",
       "1        2  ...        1            3                    7         8   \n",
       "2        7  ...        8            7                    9         2   \n",
       "3        7  ...        4            2                    3         1   \n",
       "4        7  ...        3            2                    4         1   \n",
       "\n",
       "   Swallowing Difficulty  Clubbing of Finger Nails  Frequent Cold  Dry Cough  \\\n",
       "0                      3                         1              2          3   \n",
       "1                      6                         2              1          7   \n",
       "2                      1                         4              6          7   \n",
       "3                      4                         5              6          7   \n",
       "4                      4                         2              4          2   \n",
       "\n",
       "   Snoring  Level  \n",
       "0        4      1  \n",
       "1        2      2  \n",
       "2        2      3  \n",
       "3        5      3  \n",
       "4        3      3  \n",
       "\n",
       "[5 rows x 24 columns]"
      ]
     },
     "execution_count": 6,
     "metadata": {},
     "output_type": "execute_result"
    }
   ],
   "source": [
    "df['Level']=df['Level'].replace({'Low':1,'Medium':2,'High':3})\n",
    "df.head(5)"
   ]
  },
  {
   "cell_type": "code",
   "execution_count": 7,
   "id": "05839430",
   "metadata": {},
   "outputs": [
    {
     "name": "stdout",
     "output_type": "stream",
     "text": [
      "<class 'pandas.core.frame.DataFrame'>\n",
      "RangeIndex: 1000 entries, 0 to 999\n",
      "Data columns (total 24 columns):\n",
      " #   Column                    Non-Null Count  Dtype\n",
      "---  ------                    --------------  -----\n",
      " 0   Age                       1000 non-null   int64\n",
      " 1   Gender                    1000 non-null   int64\n",
      " 2   Air Pollution             1000 non-null   int64\n",
      " 3   Alcohol use               1000 non-null   int64\n",
      " 4   Dust Allergy              1000 non-null   int64\n",
      " 5   OccuPational Hazards      1000 non-null   int64\n",
      " 6   Genetic Risk              1000 non-null   int64\n",
      " 7   chronic Lung Disease      1000 non-null   int64\n",
      " 8   Balanced Diet             1000 non-null   int64\n",
      " 9   Obesity                   1000 non-null   int64\n",
      " 10  Smoking                   1000 non-null   int64\n",
      " 11  Passive Smoker            1000 non-null   int64\n",
      " 12  Chest Pain                1000 non-null   int64\n",
      " 13  Coughing of Blood         1000 non-null   int64\n",
      " 14  Fatigue                   1000 non-null   int64\n",
      " 15  Weight Loss               1000 non-null   int64\n",
      " 16  Shortness of Breath       1000 non-null   int64\n",
      " 17  Wheezing                  1000 non-null   int64\n",
      " 18  Swallowing Difficulty     1000 non-null   int64\n",
      " 19  Clubbing of Finger Nails  1000 non-null   int64\n",
      " 20  Frequent Cold             1000 non-null   int64\n",
      " 21  Dry Cough                 1000 non-null   int64\n",
      " 22  Snoring                   1000 non-null   int64\n",
      " 23  Level                     1000 non-null   int64\n",
      "dtypes: int64(24)\n",
      "memory usage: 187.6 KB\n"
     ]
    }
   ],
   "source": [
    "df.info()"
   ]
  },
  {
   "cell_type": "code",
   "execution_count": 8,
   "id": "c9eff728",
   "metadata": {},
   "outputs": [
    {
     "data": {
      "text/html": [
       "<div>\n",
       "<style scoped>\n",
       "    .dataframe tbody tr th:only-of-type {\n",
       "        vertical-align: middle;\n",
       "    }\n",
       "\n",
       "    .dataframe tbody tr th {\n",
       "        vertical-align: top;\n",
       "    }\n",
       "\n",
       "    .dataframe thead th {\n",
       "        text-align: right;\n",
       "    }\n",
       "</style>\n",
       "<table border=\"1\" class=\"dataframe\">\n",
       "  <thead>\n",
       "    <tr style=\"text-align: right;\">\n",
       "      <th></th>\n",
       "      <th>Age</th>\n",
       "      <th>Gender</th>\n",
       "      <th>Air Pollution</th>\n",
       "      <th>Alcohol use</th>\n",
       "      <th>Dust Allergy</th>\n",
       "      <th>OccuPational Hazards</th>\n",
       "      <th>Genetic Risk</th>\n",
       "      <th>chronic Lung Disease</th>\n",
       "      <th>Balanced Diet</th>\n",
       "      <th>Obesity</th>\n",
       "      <th>...</th>\n",
       "      <th>Fatigue</th>\n",
       "      <th>Weight Loss</th>\n",
       "      <th>Shortness of Breath</th>\n",
       "      <th>Wheezing</th>\n",
       "      <th>Swallowing Difficulty</th>\n",
       "      <th>Clubbing of Finger Nails</th>\n",
       "      <th>Frequent Cold</th>\n",
       "      <th>Dry Cough</th>\n",
       "      <th>Snoring</th>\n",
       "      <th>Level</th>\n",
       "    </tr>\n",
       "  </thead>\n",
       "  <tbody>\n",
       "    <tr>\n",
       "      <th>count</th>\n",
       "      <td>1000.000000</td>\n",
       "      <td>1000.000000</td>\n",
       "      <td>1000.0000</td>\n",
       "      <td>1000.000000</td>\n",
       "      <td>1000.000000</td>\n",
       "      <td>1000.000000</td>\n",
       "      <td>1000.000000</td>\n",
       "      <td>1000.000000</td>\n",
       "      <td>1000.000000</td>\n",
       "      <td>1000.000000</td>\n",
       "      <td>...</td>\n",
       "      <td>1000.000000</td>\n",
       "      <td>1000.000000</td>\n",
       "      <td>1000.000000</td>\n",
       "      <td>1000.000000</td>\n",
       "      <td>1000.000000</td>\n",
       "      <td>1000.000000</td>\n",
       "      <td>1000.000000</td>\n",
       "      <td>1000.000000</td>\n",
       "      <td>1000.000000</td>\n",
       "      <td>1000.000000</td>\n",
       "    </tr>\n",
       "    <tr>\n",
       "      <th>mean</th>\n",
       "      <td>37.174000</td>\n",
       "      <td>1.402000</td>\n",
       "      <td>3.8400</td>\n",
       "      <td>4.563000</td>\n",
       "      <td>5.165000</td>\n",
       "      <td>4.840000</td>\n",
       "      <td>4.580000</td>\n",
       "      <td>4.380000</td>\n",
       "      <td>4.491000</td>\n",
       "      <td>4.465000</td>\n",
       "      <td>...</td>\n",
       "      <td>3.856000</td>\n",
       "      <td>3.855000</td>\n",
       "      <td>4.240000</td>\n",
       "      <td>3.777000</td>\n",
       "      <td>3.746000</td>\n",
       "      <td>3.923000</td>\n",
       "      <td>3.536000</td>\n",
       "      <td>3.852000</td>\n",
       "      <td>2.926000</td>\n",
       "      <td>2.062000</td>\n",
       "    </tr>\n",
       "    <tr>\n",
       "      <th>std</th>\n",
       "      <td>12.005493</td>\n",
       "      <td>0.490547</td>\n",
       "      <td>2.0304</td>\n",
       "      <td>2.620477</td>\n",
       "      <td>1.980833</td>\n",
       "      <td>2.107805</td>\n",
       "      <td>2.126999</td>\n",
       "      <td>1.848518</td>\n",
       "      <td>2.135528</td>\n",
       "      <td>2.124921</td>\n",
       "      <td>...</td>\n",
       "      <td>2.244616</td>\n",
       "      <td>2.206546</td>\n",
       "      <td>2.285087</td>\n",
       "      <td>2.041921</td>\n",
       "      <td>2.270383</td>\n",
       "      <td>2.388048</td>\n",
       "      <td>1.832502</td>\n",
       "      <td>2.037707</td>\n",
       "      <td>1.474686</td>\n",
       "      <td>0.815365</td>\n",
       "    </tr>\n",
       "    <tr>\n",
       "      <th>min</th>\n",
       "      <td>14.000000</td>\n",
       "      <td>1.000000</td>\n",
       "      <td>1.0000</td>\n",
       "      <td>1.000000</td>\n",
       "      <td>1.000000</td>\n",
       "      <td>1.000000</td>\n",
       "      <td>1.000000</td>\n",
       "      <td>1.000000</td>\n",
       "      <td>1.000000</td>\n",
       "      <td>1.000000</td>\n",
       "      <td>...</td>\n",
       "      <td>1.000000</td>\n",
       "      <td>1.000000</td>\n",
       "      <td>1.000000</td>\n",
       "      <td>1.000000</td>\n",
       "      <td>1.000000</td>\n",
       "      <td>1.000000</td>\n",
       "      <td>1.000000</td>\n",
       "      <td>1.000000</td>\n",
       "      <td>1.000000</td>\n",
       "      <td>1.000000</td>\n",
       "    </tr>\n",
       "    <tr>\n",
       "      <th>25%</th>\n",
       "      <td>27.750000</td>\n",
       "      <td>1.000000</td>\n",
       "      <td>2.0000</td>\n",
       "      <td>2.000000</td>\n",
       "      <td>4.000000</td>\n",
       "      <td>3.000000</td>\n",
       "      <td>2.000000</td>\n",
       "      <td>3.000000</td>\n",
       "      <td>2.000000</td>\n",
       "      <td>3.000000</td>\n",
       "      <td>...</td>\n",
       "      <td>2.000000</td>\n",
       "      <td>2.000000</td>\n",
       "      <td>2.000000</td>\n",
       "      <td>2.000000</td>\n",
       "      <td>2.000000</td>\n",
       "      <td>2.000000</td>\n",
       "      <td>2.000000</td>\n",
       "      <td>2.000000</td>\n",
       "      <td>2.000000</td>\n",
       "      <td>1.000000</td>\n",
       "    </tr>\n",
       "    <tr>\n",
       "      <th>50%</th>\n",
       "      <td>36.000000</td>\n",
       "      <td>1.000000</td>\n",
       "      <td>3.0000</td>\n",
       "      <td>5.000000</td>\n",
       "      <td>6.000000</td>\n",
       "      <td>5.000000</td>\n",
       "      <td>5.000000</td>\n",
       "      <td>4.000000</td>\n",
       "      <td>4.000000</td>\n",
       "      <td>4.000000</td>\n",
       "      <td>...</td>\n",
       "      <td>3.000000</td>\n",
       "      <td>3.000000</td>\n",
       "      <td>4.000000</td>\n",
       "      <td>4.000000</td>\n",
       "      <td>4.000000</td>\n",
       "      <td>4.000000</td>\n",
       "      <td>3.000000</td>\n",
       "      <td>4.000000</td>\n",
       "      <td>3.000000</td>\n",
       "      <td>2.000000</td>\n",
       "    </tr>\n",
       "    <tr>\n",
       "      <th>75%</th>\n",
       "      <td>45.000000</td>\n",
       "      <td>2.000000</td>\n",
       "      <td>6.0000</td>\n",
       "      <td>7.000000</td>\n",
       "      <td>7.000000</td>\n",
       "      <td>7.000000</td>\n",
       "      <td>7.000000</td>\n",
       "      <td>6.000000</td>\n",
       "      <td>7.000000</td>\n",
       "      <td>7.000000</td>\n",
       "      <td>...</td>\n",
       "      <td>5.000000</td>\n",
       "      <td>6.000000</td>\n",
       "      <td>6.000000</td>\n",
       "      <td>5.000000</td>\n",
       "      <td>5.000000</td>\n",
       "      <td>5.000000</td>\n",
       "      <td>5.000000</td>\n",
       "      <td>6.000000</td>\n",
       "      <td>4.000000</td>\n",
       "      <td>3.000000</td>\n",
       "    </tr>\n",
       "    <tr>\n",
       "      <th>max</th>\n",
       "      <td>73.000000</td>\n",
       "      <td>2.000000</td>\n",
       "      <td>8.0000</td>\n",
       "      <td>8.000000</td>\n",
       "      <td>8.000000</td>\n",
       "      <td>8.000000</td>\n",
       "      <td>7.000000</td>\n",
       "      <td>7.000000</td>\n",
       "      <td>7.000000</td>\n",
       "      <td>7.000000</td>\n",
       "      <td>...</td>\n",
       "      <td>9.000000</td>\n",
       "      <td>8.000000</td>\n",
       "      <td>9.000000</td>\n",
       "      <td>8.000000</td>\n",
       "      <td>8.000000</td>\n",
       "      <td>9.000000</td>\n",
       "      <td>7.000000</td>\n",
       "      <td>7.000000</td>\n",
       "      <td>7.000000</td>\n",
       "      <td>3.000000</td>\n",
       "    </tr>\n",
       "  </tbody>\n",
       "</table>\n",
       "<p>8 rows × 24 columns</p>\n",
       "</div>"
      ],
      "text/plain": [
       "               Age       Gender  Air Pollution  Alcohol use  Dust Allergy  \\\n",
       "count  1000.000000  1000.000000      1000.0000  1000.000000   1000.000000   \n",
       "mean     37.174000     1.402000         3.8400     4.563000      5.165000   \n",
       "std      12.005493     0.490547         2.0304     2.620477      1.980833   \n",
       "min      14.000000     1.000000         1.0000     1.000000      1.000000   \n",
       "25%      27.750000     1.000000         2.0000     2.000000      4.000000   \n",
       "50%      36.000000     1.000000         3.0000     5.000000      6.000000   \n",
       "75%      45.000000     2.000000         6.0000     7.000000      7.000000   \n",
       "max      73.000000     2.000000         8.0000     8.000000      8.000000   \n",
       "\n",
       "       OccuPational Hazards  Genetic Risk  chronic Lung Disease  \\\n",
       "count           1000.000000   1000.000000           1000.000000   \n",
       "mean               4.840000      4.580000              4.380000   \n",
       "std                2.107805      2.126999              1.848518   \n",
       "min                1.000000      1.000000              1.000000   \n",
       "25%                3.000000      2.000000              3.000000   \n",
       "50%                5.000000      5.000000              4.000000   \n",
       "75%                7.000000      7.000000              6.000000   \n",
       "max                8.000000      7.000000              7.000000   \n",
       "\n",
       "       Balanced Diet      Obesity  ...      Fatigue  Weight Loss  \\\n",
       "count    1000.000000  1000.000000  ...  1000.000000  1000.000000   \n",
       "mean        4.491000     4.465000  ...     3.856000     3.855000   \n",
       "std         2.135528     2.124921  ...     2.244616     2.206546   \n",
       "min         1.000000     1.000000  ...     1.000000     1.000000   \n",
       "25%         2.000000     3.000000  ...     2.000000     2.000000   \n",
       "50%         4.000000     4.000000  ...     3.000000     3.000000   \n",
       "75%         7.000000     7.000000  ...     5.000000     6.000000   \n",
       "max         7.000000     7.000000  ...     9.000000     8.000000   \n",
       "\n",
       "       Shortness of Breath     Wheezing  Swallowing Difficulty  \\\n",
       "count          1000.000000  1000.000000            1000.000000   \n",
       "mean              4.240000     3.777000               3.746000   \n",
       "std               2.285087     2.041921               2.270383   \n",
       "min               1.000000     1.000000               1.000000   \n",
       "25%               2.000000     2.000000               2.000000   \n",
       "50%               4.000000     4.000000               4.000000   \n",
       "75%               6.000000     5.000000               5.000000   \n",
       "max               9.000000     8.000000               8.000000   \n",
       "\n",
       "       Clubbing of Finger Nails  Frequent Cold    Dry Cough      Snoring  \\\n",
       "count               1000.000000    1000.000000  1000.000000  1000.000000   \n",
       "mean                   3.923000       3.536000     3.852000     2.926000   \n",
       "std                    2.388048       1.832502     2.037707     1.474686   \n",
       "min                    1.000000       1.000000     1.000000     1.000000   \n",
       "25%                    2.000000       2.000000     2.000000     2.000000   \n",
       "50%                    4.000000       3.000000     4.000000     3.000000   \n",
       "75%                    5.000000       5.000000     6.000000     4.000000   \n",
       "max                    9.000000       7.000000     7.000000     7.000000   \n",
       "\n",
       "             Level  \n",
       "count  1000.000000  \n",
       "mean      2.062000  \n",
       "std       0.815365  \n",
       "min       1.000000  \n",
       "25%       1.000000  \n",
       "50%       2.000000  \n",
       "75%       3.000000  \n",
       "max       3.000000  \n",
       "\n",
       "[8 rows x 24 columns]"
      ]
     },
     "execution_count": 8,
     "metadata": {},
     "output_type": "execute_result"
    }
   ],
   "source": [
    "df.describe()"
   ]
  },
  {
   "cell_type": "code",
   "execution_count": 9,
   "id": "3cf025e6",
   "metadata": {},
   "outputs": [
    {
     "data": {
      "text/plain": [
       "<AxesSubplot: xlabel='Level', ylabel='count'>"
      ]
     },
     "execution_count": 9,
     "metadata": {},
     "output_type": "execute_result"
    },
    {
     "data": {
      "image/png": "[encoded data removed]",
      "text/plain": [
       "<Figure size 640x480 with 1 Axes>"
      ]
     },
     "metadata": {},
     "output_type": "display_data"
    }
   ],
   "source": [
    "sns.countplot(data=df,x='Level')"
   ]
  },
  {
   "cell_type": "code",
   "execution_count": 10,
   "id": "3fbfd16e",
   "metadata": {},
   "outputs": [
    {
     "data": {
      "text/plain": [
       "3    365\n",
       "2    332\n",
       "1    303\n",
       "Name: Level, dtype: int64"
      ]
     },
     "execution_count": 10,
     "metadata": {},
     "output_type": "execute_result"
    }
   ],
   "source": [
    "df['Level'].value_counts()"
   ]
  },
  {
   "cell_type": "code",
   "execution_count": 11,
   "id": "cc18132f",
   "metadata": {},
   "outputs": [
    {
     "data": {
      "text/plain": [
       "Age                         0.075333\n",
       "Gender                     -0.206924\n",
       "Air Pollution               0.481902\n",
       "Alcohol use                 0.547035\n",
       "Dust Allergy                0.358691\n",
       "OccuPational Hazards        0.497693\n",
       "Genetic Risk                0.543259\n",
       "chronic Lung Disease        0.578585\n",
       "Balanced Diet               0.645390\n",
       "Obesity                     0.486795\n",
       "Smoking                     1.000000\n",
       "Passive Smoker              0.761622\n",
       "Chest Pain                  0.647926\n",
       "Coughing of Blood           0.555289\n",
       "Fatigue                     0.200029\n",
       "Weight Loss                -0.212937\n",
       "Shortness of Breath        -0.023259\n",
       "Wheezing                   -0.047060\n",
       "Swallowing Difficulty       0.236141\n",
       "Clubbing of Finger Nails   -0.041147\n",
       "Frequent Cold               0.039585\n",
       "Dry Cough                   0.009507\n",
       "Snoring                     0.189055\n",
       "Level                       0.519530\n",
       "dtype: float64"
      ]
     },
     "execution_count": 11,
     "metadata": {},
     "output_type": "execute_result"
    }
   ],
   "source": [
    "df.corrwith(df['Smoking'])"
   ]
  },
  {
   "cell_type": "code",
   "execution_count": 12,
   "id": "b5070123",
   "metadata": {},
   "outputs": [
    {
     "data": {
      "text/html": [
       "<div>\n",
       "<style scoped>\n",
       "    .dataframe tbody tr th:only-of-type {\n",
       "        vertical-align: middle;\n",
       "    }\n",
       "\n",
       "    .dataframe tbody tr th {\n",
       "        vertical-align: top;\n",
       "    }\n",
       "\n",
       "    .dataframe thead th {\n",
       "        text-align: right;\n",
       "    }\n",
       "</style>\n",
       "<table border=\"1\" class=\"dataframe\">\n",
       "  <thead>\n",
       "    <tr style=\"text-align: right;\">\n",
       "      <th></th>\n",
       "      <th>Age</th>\n",
       "      <th>Gender</th>\n",
       "      <th>Air Pollution</th>\n",
       "      <th>Alcohol use</th>\n",
       "      <th>Dust Allergy</th>\n",
       "      <th>OccuPational Hazards</th>\n",
       "      <th>Genetic Risk</th>\n",
       "      <th>chronic Lung Disease</th>\n",
       "      <th>Balanced Diet</th>\n",
       "      <th>Obesity</th>\n",
       "      <th>...</th>\n",
       "      <th>Fatigue</th>\n",
       "      <th>Weight Loss</th>\n",
       "      <th>Shortness of Breath</th>\n",
       "      <th>Wheezing</th>\n",
       "      <th>Swallowing Difficulty</th>\n",
       "      <th>Clubbing of Finger Nails</th>\n",
       "      <th>Frequent Cold</th>\n",
       "      <th>Dry Cough</th>\n",
       "      <th>Snoring</th>\n",
       "      <th>Level</th>\n",
       "    </tr>\n",
       "  </thead>\n",
       "  <tbody>\n",
       "    <tr>\n",
       "      <th>Age</th>\n",
       "      <td>1.000000</td>\n",
       "      <td>-0.202086</td>\n",
       "      <td>0.099494</td>\n",
       "      <td>0.151742</td>\n",
       "      <td>0.035202</td>\n",
       "      <td>0.062177</td>\n",
       "      <td>0.073151</td>\n",
       "      <td>0.128952</td>\n",
       "      <td>0.004863</td>\n",
       "      <td>0.034337</td>\n",
       "      <td>...</td>\n",
       "      <td>0.095059</td>\n",
       "      <td>0.106946</td>\n",
       "      <td>0.035329</td>\n",
       "      <td>-0.095354</td>\n",
       "      <td>-0.105833</td>\n",
       "      <td>0.039258</td>\n",
       "      <td>-0.012706</td>\n",
       "      <td>0.012265</td>\n",
       "      <td>-0.004700</td>\n",
       "      <td>0.060048</td>\n",
       "    </tr>\n",
       "    <tr>\n",
       "      <th>Gender</th>\n",
       "      <td>-0.202086</td>\n",
       "      <td>1.000000</td>\n",
       "      <td>-0.246912</td>\n",
       "      <td>-0.227636</td>\n",
       "      <td>-0.204312</td>\n",
       "      <td>-0.192343</td>\n",
       "      <td>-0.222727</td>\n",
       "      <td>-0.205061</td>\n",
       "      <td>-0.099741</td>\n",
       "      <td>-0.123813</td>\n",
       "      <td>...</td>\n",
       "      <td>-0.116467</td>\n",
       "      <td>-0.057993</td>\n",
       "      <td>-0.045972</td>\n",
       "      <td>-0.076304</td>\n",
       "      <td>-0.058324</td>\n",
       "      <td>-0.034219</td>\n",
       "      <td>-0.000526</td>\n",
       "      <td>-0.122677</td>\n",
       "      <td>-0.181618</td>\n",
       "      <td>-0.164985</td>\n",
       "    </tr>\n",
       "    <tr>\n",
       "      <th>Air Pollution</th>\n",
       "      <td>0.099494</td>\n",
       "      <td>-0.246912</td>\n",
       "      <td>1.000000</td>\n",
       "      <td>0.747293</td>\n",
       "      <td>0.637503</td>\n",
       "      <td>0.608924</td>\n",
       "      <td>0.705276</td>\n",
       "      <td>0.626701</td>\n",
       "      <td>0.524873</td>\n",
       "      <td>0.601468</td>\n",
       "      <td>...</td>\n",
       "      <td>0.211724</td>\n",
       "      <td>0.258016</td>\n",
       "      <td>0.269558</td>\n",
       "      <td>0.055368</td>\n",
       "      <td>-0.080918</td>\n",
       "      <td>0.241065</td>\n",
       "      <td>0.174539</td>\n",
       "      <td>0.261133</td>\n",
       "      <td>-0.021343</td>\n",
       "      <td>0.636038</td>\n",
       "    </tr>\n",
       "    <tr>\n",
       "      <th>Alcohol use</th>\n",
       "      <td>0.151742</td>\n",
       "      <td>-0.227636</td>\n",
       "      <td>0.747293</td>\n",
       "      <td>1.000000</td>\n",
       "      <td>0.818644</td>\n",
       "      <td>0.878786</td>\n",
       "      <td>0.877210</td>\n",
       "      <td>0.763576</td>\n",
       "      <td>0.653352</td>\n",
       "      <td>0.669312</td>\n",
       "      <td>...</td>\n",
       "      <td>0.237245</td>\n",
       "      <td>0.207851</td>\n",
       "      <td>0.435785</td>\n",
       "      <td>0.180817</td>\n",
       "      <td>-0.114073</td>\n",
       "      <td>0.414992</td>\n",
       "      <td>0.180778</td>\n",
       "      <td>0.210955</td>\n",
       "      <td>0.122694</td>\n",
       "      <td>0.718710</td>\n",
       "    </tr>\n",
       "    <tr>\n",
       "      <th>Dust Allergy</th>\n",
       "      <td>0.035202</td>\n",
       "      <td>-0.204312</td>\n",
       "      <td>0.637503</td>\n",
       "      <td>0.818644</td>\n",
       "      <td>1.000000</td>\n",
       "      <td>0.835860</td>\n",
       "      <td>0.787904</td>\n",
       "      <td>0.619556</td>\n",
       "      <td>0.647197</td>\n",
       "      <td>0.700676</td>\n",
       "      <td>...</td>\n",
       "      <td>0.332472</td>\n",
       "      <td>0.321756</td>\n",
       "      <td>0.518682</td>\n",
       "      <td>0.304850</td>\n",
       "      <td>0.031141</td>\n",
       "      <td>0.345714</td>\n",
       "      <td>0.219389</td>\n",
       "      <td>0.299932</td>\n",
       "      <td>0.052844</td>\n",
       "      <td>0.713839</td>\n",
       "    </tr>\n",
       "    <tr>\n",
       "      <th>OccuPational Hazards</th>\n",
       "      <td>0.062177</td>\n",
       "      <td>-0.192343</td>\n",
       "      <td>0.608924</td>\n",
       "      <td>0.878786</td>\n",
       "      <td>0.835860</td>\n",
       "      <td>1.000000</td>\n",
       "      <td>0.893049</td>\n",
       "      <td>0.858284</td>\n",
       "      <td>0.691509</td>\n",
       "      <td>0.722191</td>\n",
       "      <td>...</td>\n",
       "      <td>0.267844</td>\n",
       "      <td>0.176226</td>\n",
       "      <td>0.366482</td>\n",
       "      <td>0.178925</td>\n",
       "      <td>-0.002853</td>\n",
       "      <td>0.366447</td>\n",
       "      <td>0.077166</td>\n",
       "      <td>0.159486</td>\n",
       "      <td>0.022916</td>\n",
       "      <td>0.673255</td>\n",
       "    </tr>\n",
       "    <tr>\n",
       "      <th>Genetic Risk</th>\n",
       "      <td>0.073151</td>\n",
       "      <td>-0.222727</td>\n",
       "      <td>0.705276</td>\n",
       "      <td>0.877210</td>\n",
       "      <td>0.787904</td>\n",
       "      <td>0.893049</td>\n",
       "      <td>1.000000</td>\n",
       "      <td>0.836231</td>\n",
       "      <td>0.679905</td>\n",
       "      <td>0.729826</td>\n",
       "      <td>...</td>\n",
       "      <td>0.230530</td>\n",
       "      <td>0.271743</td>\n",
       "      <td>0.458200</td>\n",
       "      <td>0.204973</td>\n",
       "      <td>-0.062948</td>\n",
       "      <td>0.357815</td>\n",
       "      <td>0.087092</td>\n",
       "      <td>0.194195</td>\n",
       "      <td>-0.056831</td>\n",
       "      <td>0.701303</td>\n",
       "    </tr>\n",
       "    <tr>\n",
       "      <th>chronic Lung Disease</th>\n",
       "      <td>0.128952</td>\n",
       "      <td>-0.205061</td>\n",
       "      <td>0.626701</td>\n",
       "      <td>0.763576</td>\n",
       "      <td>0.619556</td>\n",
       "      <td>0.858284</td>\n",
       "      <td>0.836231</td>\n",
       "      <td>1.000000</td>\n",
       "      <td>0.622632</td>\n",
       "      <td>0.601754</td>\n",
       "      <td>...</td>\n",
       "      <td>0.247697</td>\n",
       "      <td>0.104080</td>\n",
       "      <td>0.182426</td>\n",
       "      <td>0.057214</td>\n",
       "      <td>0.007279</td>\n",
       "      <td>0.298023</td>\n",
       "      <td>0.028759</td>\n",
       "      <td>0.113538</td>\n",
       "      <td>0.043375</td>\n",
       "      <td>0.609971</td>\n",
       "    </tr>\n",
       "    <tr>\n",
       "      <th>Balanced Diet</th>\n",
       "      <td>0.004863</td>\n",
       "      <td>-0.099741</td>\n",
       "      <td>0.524873</td>\n",
       "      <td>0.653352</td>\n",
       "      <td>0.647197</td>\n",
       "      <td>0.691509</td>\n",
       "      <td>0.679905</td>\n",
       "      <td>0.622632</td>\n",
       "      <td>1.000000</td>\n",
       "      <td>0.706922</td>\n",
       "      <td>...</td>\n",
       "      <td>0.400678</td>\n",
       "      <td>-0.006544</td>\n",
       "      <td>0.343623</td>\n",
       "      <td>0.063930</td>\n",
       "      <td>0.046807</td>\n",
       "      <td>0.041967</td>\n",
       "      <td>0.263931</td>\n",
       "      <td>0.331629</td>\n",
       "      <td>0.152677</td>\n",
       "      <td>0.706273</td>\n",
       "    </tr>\n",
       "    <tr>\n",
       "      <th>Obesity</th>\n",
       "      <td>0.034337</td>\n",
       "      <td>-0.123813</td>\n",
       "      <td>0.601468</td>\n",
       "      <td>0.669312</td>\n",
       "      <td>0.700676</td>\n",
       "      <td>0.722191</td>\n",
       "      <td>0.729826</td>\n",
       "      <td>0.601754</td>\n",
       "      <td>0.706922</td>\n",
       "      <td>1.000000</td>\n",
       "      <td>...</td>\n",
       "      <td>0.552788</td>\n",
       "      <td>0.313495</td>\n",
       "      <td>0.406203</td>\n",
       "      <td>0.094287</td>\n",
       "      <td>0.127213</td>\n",
       "      <td>0.149093</td>\n",
       "      <td>0.288368</td>\n",
       "      <td>0.200160</td>\n",
       "      <td>0.039422</td>\n",
       "      <td>0.827435</td>\n",
       "    </tr>\n",
       "    <tr>\n",
       "      <th>Smoking</th>\n",
       "      <td>0.075333</td>\n",
       "      <td>-0.206924</td>\n",
       "      <td>0.481902</td>\n",
       "      <td>0.547035</td>\n",
       "      <td>0.358691</td>\n",
       "      <td>0.497693</td>\n",
       "      <td>0.543259</td>\n",
       "      <td>0.578585</td>\n",
       "      <td>0.645390</td>\n",
       "      <td>0.486795</td>\n",
       "      <td>...</td>\n",
       "      <td>0.200029</td>\n",
       "      <td>-0.212937</td>\n",
       "      <td>-0.023259</td>\n",
       "      <td>-0.047060</td>\n",
       "      <td>0.236141</td>\n",
       "      <td>-0.041147</td>\n",
       "      <td>0.039585</td>\n",
       "      <td>0.009507</td>\n",
       "      <td>0.189055</td>\n",
       "      <td>0.519530</td>\n",
       "    </tr>\n",
       "    <tr>\n",
       "      <th>Passive Smoker</th>\n",
       "      <td>0.004908</td>\n",
       "      <td>-0.184826</td>\n",
       "      <td>0.606764</td>\n",
       "      <td>0.592576</td>\n",
       "      <td>0.560002</td>\n",
       "      <td>0.555311</td>\n",
       "      <td>0.609071</td>\n",
       "      <td>0.572698</td>\n",
       "      <td>0.725123</td>\n",
       "      <td>0.681889</td>\n",
       "      <td>...</td>\n",
       "      <td>0.377919</td>\n",
       "      <td>0.058336</td>\n",
       "      <td>0.062948</td>\n",
       "      <td>0.200283</td>\n",
       "      <td>0.348922</td>\n",
       "      <td>-0.035536</td>\n",
       "      <td>0.104553</td>\n",
       "      <td>0.120242</td>\n",
       "      <td>0.247943</td>\n",
       "      <td>0.703594</td>\n",
       "    </tr>\n",
       "    <tr>\n",
       "      <th>Chest Pain</th>\n",
       "      <td>0.012864</td>\n",
       "      <td>-0.218426</td>\n",
       "      <td>0.585734</td>\n",
       "      <td>0.717242</td>\n",
       "      <td>0.639983</td>\n",
       "      <td>0.775619</td>\n",
       "      <td>0.831751</td>\n",
       "      <td>0.782646</td>\n",
       "      <td>0.798207</td>\n",
       "      <td>0.673150</td>\n",
       "      <td>...</td>\n",
       "      <td>0.251135</td>\n",
       "      <td>-0.001092</td>\n",
       "      <td>0.237045</td>\n",
       "      <td>0.107211</td>\n",
       "      <td>0.071784</td>\n",
       "      <td>0.081386</td>\n",
       "      <td>0.042937</td>\n",
       "      <td>0.141719</td>\n",
       "      <td>0.140036</td>\n",
       "      <td>0.645461</td>\n",
       "    </tr>\n",
       "    <tr>\n",
       "      <th>Coughing of Blood</th>\n",
       "      <td>0.053006</td>\n",
       "      <td>-0.146505</td>\n",
       "      <td>0.607829</td>\n",
       "      <td>0.667612</td>\n",
       "      <td>0.625291</td>\n",
       "      <td>0.645947</td>\n",
       "      <td>0.632236</td>\n",
       "      <td>0.602987</td>\n",
       "      <td>0.745054</td>\n",
       "      <td>0.814805</td>\n",
       "      <td>...</td>\n",
       "      <td>0.481540</td>\n",
       "      <td>0.105857</td>\n",
       "      <td>0.318777</td>\n",
       "      <td>-0.085698</td>\n",
       "      <td>0.086289</td>\n",
       "      <td>-0.066443</td>\n",
       "      <td>0.244235</td>\n",
       "      <td>0.147117</td>\n",
       "      <td>0.087944</td>\n",
       "      <td>0.782092</td>\n",
       "    </tr>\n",
       "    <tr>\n",
       "      <th>Fatigue</th>\n",
       "      <td>0.095059</td>\n",
       "      <td>-0.116467</td>\n",
       "      <td>0.211724</td>\n",
       "      <td>0.237245</td>\n",
       "      <td>0.332472</td>\n",
       "      <td>0.267844</td>\n",
       "      <td>0.230530</td>\n",
       "      <td>0.247697</td>\n",
       "      <td>0.400678</td>\n",
       "      <td>0.552788</td>\n",
       "      <td>...</td>\n",
       "      <td>1.000000</td>\n",
       "      <td>0.469517</td>\n",
       "      <td>0.398625</td>\n",
       "      <td>0.174477</td>\n",
       "      <td>0.149562</td>\n",
       "      <td>0.040694</td>\n",
       "      <td>0.407915</td>\n",
       "      <td>0.271308</td>\n",
       "      <td>0.231748</td>\n",
       "      <td>0.625114</td>\n",
       "    </tr>\n",
       "    <tr>\n",
       "      <th>Weight Loss</th>\n",
       "      <td>0.106946</td>\n",
       "      <td>-0.057993</td>\n",
       "      <td>0.258016</td>\n",
       "      <td>0.207851</td>\n",
       "      <td>0.321756</td>\n",
       "      <td>0.176226</td>\n",
       "      <td>0.271743</td>\n",
       "      <td>0.104080</td>\n",
       "      <td>-0.006544</td>\n",
       "      <td>0.313495</td>\n",
       "      <td>...</td>\n",
       "      <td>0.469517</td>\n",
       "      <td>1.000000</td>\n",
       "      <td>0.574497</td>\n",
       "      <td>0.331179</td>\n",
       "      <td>0.053384</td>\n",
       "      <td>0.376484</td>\n",
       "      <td>0.160348</td>\n",
       "      <td>0.189131</td>\n",
       "      <td>-0.189106</td>\n",
       "      <td>0.352738</td>\n",
       "    </tr>\n",
       "    <tr>\n",
       "      <th>Shortness of Breath</th>\n",
       "      <td>0.035329</td>\n",
       "      <td>-0.045972</td>\n",
       "      <td>0.269558</td>\n",
       "      <td>0.435785</td>\n",
       "      <td>0.518682</td>\n",
       "      <td>0.366482</td>\n",
       "      <td>0.458200</td>\n",
       "      <td>0.182426</td>\n",
       "      <td>0.343623</td>\n",
       "      <td>0.406203</td>\n",
       "      <td>...</td>\n",
       "      <td>0.398625</td>\n",
       "      <td>0.574497</td>\n",
       "      <td>1.000000</td>\n",
       "      <td>0.207564</td>\n",
       "      <td>-0.200477</td>\n",
       "      <td>0.474275</td>\n",
       "      <td>0.351489</td>\n",
       "      <td>0.493912</td>\n",
       "      <td>-0.159291</td>\n",
       "      <td>0.497024</td>\n",
       "    </tr>\n",
       "    <tr>\n",
       "      <th>Wheezing</th>\n",
       "      <td>-0.095354</td>\n",
       "      <td>-0.076304</td>\n",
       "      <td>0.055368</td>\n",
       "      <td>0.180817</td>\n",
       "      <td>0.304850</td>\n",
       "      <td>0.178925</td>\n",
       "      <td>0.204973</td>\n",
       "      <td>0.057214</td>\n",
       "      <td>0.063930</td>\n",
       "      <td>0.094287</td>\n",
       "      <td>...</td>\n",
       "      <td>0.174477</td>\n",
       "      <td>0.331179</td>\n",
       "      <td>0.207564</td>\n",
       "      <td>1.000000</td>\n",
       "      <td>0.393487</td>\n",
       "      <td>0.338271</td>\n",
       "      <td>0.098855</td>\n",
       "      <td>0.055091</td>\n",
       "      <td>0.116183</td>\n",
       "      <td>0.242794</td>\n",
       "    </tr>\n",
       "    <tr>\n",
       "      <th>Swallowing Difficulty</th>\n",
       "      <td>-0.105833</td>\n",
       "      <td>-0.058324</td>\n",
       "      <td>-0.080918</td>\n",
       "      <td>-0.114073</td>\n",
       "      <td>0.031141</td>\n",
       "      <td>-0.002853</td>\n",
       "      <td>-0.062948</td>\n",
       "      <td>0.007279</td>\n",
       "      <td>0.046807</td>\n",
       "      <td>0.127213</td>\n",
       "      <td>...</td>\n",
       "      <td>0.149562</td>\n",
       "      <td>0.053384</td>\n",
       "      <td>-0.200477</td>\n",
       "      <td>0.393487</td>\n",
       "      <td>1.000000</td>\n",
       "      <td>-0.119741</td>\n",
       "      <td>0.132363</td>\n",
       "      <td>-0.055518</td>\n",
       "      <td>0.210540</td>\n",
       "      <td>0.249142</td>\n",
       "    </tr>\n",
       "    <tr>\n",
       "      <th>Clubbing of Finger Nails</th>\n",
       "      <td>0.039258</td>\n",
       "      <td>-0.034219</td>\n",
       "      <td>0.241065</td>\n",
       "      <td>0.414992</td>\n",
       "      <td>0.345714</td>\n",
       "      <td>0.366447</td>\n",
       "      <td>0.357815</td>\n",
       "      <td>0.298023</td>\n",
       "      <td>0.041967</td>\n",
       "      <td>0.149093</td>\n",
       "      <td>...</td>\n",
       "      <td>0.040694</td>\n",
       "      <td>0.376484</td>\n",
       "      <td>0.474275</td>\n",
       "      <td>0.338271</td>\n",
       "      <td>-0.119741</td>\n",
       "      <td>1.000000</td>\n",
       "      <td>0.242529</td>\n",
       "      <td>0.307245</td>\n",
       "      <td>-0.017537</td>\n",
       "      <td>0.280063</td>\n",
       "    </tr>\n",
       "    <tr>\n",
       "      <th>Frequent Cold</th>\n",
       "      <td>-0.012706</td>\n",
       "      <td>-0.000526</td>\n",
       "      <td>0.174539</td>\n",
       "      <td>0.180778</td>\n",
       "      <td>0.219389</td>\n",
       "      <td>0.077166</td>\n",
       "      <td>0.087092</td>\n",
       "      <td>0.028759</td>\n",
       "      <td>0.263931</td>\n",
       "      <td>0.288368</td>\n",
       "      <td>...</td>\n",
       "      <td>0.407915</td>\n",
       "      <td>0.160348</td>\n",
       "      <td>0.351489</td>\n",
       "      <td>0.098855</td>\n",
       "      <td>0.132363</td>\n",
       "      <td>0.242529</td>\n",
       "      <td>1.000000</td>\n",
       "      <td>0.515587</td>\n",
       "      <td>0.335844</td>\n",
       "      <td>0.444017</td>\n",
       "    </tr>\n",
       "    <tr>\n",
       "      <th>Dry Cough</th>\n",
       "      <td>0.012265</td>\n",
       "      <td>-0.122677</td>\n",
       "      <td>0.261133</td>\n",
       "      <td>0.210955</td>\n",
       "      <td>0.299932</td>\n",
       "      <td>0.159486</td>\n",
       "      <td>0.194195</td>\n",
       "      <td>0.113538</td>\n",
       "      <td>0.331629</td>\n",
       "      <td>0.200160</td>\n",
       "      <td>...</td>\n",
       "      <td>0.271308</td>\n",
       "      <td>0.189131</td>\n",
       "      <td>0.493912</td>\n",
       "      <td>0.055091</td>\n",
       "      <td>-0.055518</td>\n",
       "      <td>0.307245</td>\n",
       "      <td>0.515587</td>\n",
       "      <td>1.000000</td>\n",
       "      <td>0.175567</td>\n",
       "      <td>0.373642</td>\n",
       "    </tr>\n",
       "    <tr>\n",
       "      <th>Snoring</th>\n",
       "      <td>-0.004700</td>\n",
       "      <td>-0.181618</td>\n",
       "      <td>-0.021343</td>\n",
       "      <td>0.122694</td>\n",
       "      <td>0.052844</td>\n",
       "      <td>0.022916</td>\n",
       "      <td>-0.056831</td>\n",
       "      <td>0.043375</td>\n",
       "      <td>0.152677</td>\n",
       "      <td>0.039422</td>\n",
       "      <td>...</td>\n",
       "      <td>0.231748</td>\n",
       "      <td>-0.189106</td>\n",
       "      <td>-0.159291</td>\n",
       "      <td>0.116183</td>\n",
       "      <td>0.210540</td>\n",
       "      <td>-0.017537</td>\n",
       "      <td>0.335844</td>\n",
       "      <td>0.175567</td>\n",
       "      <td>1.000000</td>\n",
       "      <td>0.289366</td>\n",
       "    </tr>\n",
       "    <tr>\n",
       "      <th>Level</th>\n",
       "      <td>0.060048</td>\n",
       "      <td>-0.164985</td>\n",
       "      <td>0.636038</td>\n",
       "      <td>0.718710</td>\n",
       "      <td>0.713839</td>\n",
       "      <td>0.673255</td>\n",
       "      <td>0.701303</td>\n",
       "      <td>0.609971</td>\n",
       "      <td>0.706273</td>\n",
       "      <td>0.827435</td>\n",
       "      <td>...</td>\n",
       "      <td>0.625114</td>\n",
       "      <td>0.352738</td>\n",
       "      <td>0.497024</td>\n",
       "      <td>0.242794</td>\n",
       "      <td>0.249142</td>\n",
       "      <td>0.280063</td>\n",
       "      <td>0.444017</td>\n",
       "      <td>0.373642</td>\n",
       "      <td>0.289366</td>\n",
       "      <td>1.000000</td>\n",
       "    </tr>\n",
       "  </tbody>\n",
       "</table>\n",
       "<p>24 rows × 24 columns</p>\n",
       "</div>"
      ],
      "text/plain": [
       "                               Age    Gender  Air Pollution  Alcohol use  \\\n",
       "Age                       1.000000 -0.202086       0.099494     0.151742   \n",
       "Gender                   -0.202086  1.000000      -0.246912    -0.227636   \n",
       "Air Pollution             0.099494 -0.246912       1.000000     0.747293   \n",
       "Alcohol use               0.151742 -0.227636       0.747293     1.000000   \n",
       "Dust Allergy              0.035202 -0.204312       0.637503     0.818644   \n",
       "OccuPational Hazards      0.062177 -0.192343       0.608924     0.878786   \n",
       "Genetic Risk              0.073151 -0.222727       0.705276     0.877210   \n",
       "chronic Lung Disease      0.128952 -0.205061       0.626701     0.763576   \n",
       "Balanced Diet             0.004863 -0.099741       0.524873     0.653352   \n",
       "Obesity                   0.034337 -0.123813       0.601468     0.669312   \n",
       "Smoking                   0.075333 -0.206924       0.481902     0.547035   \n",
       "Passive Smoker            0.004908 -0.184826       0.606764     0.592576   \n",
       "Chest Pain                0.012864 -0.218426       0.585734     0.717242   \n",
       "Coughing of Blood         0.053006 -0.146505       0.607829     0.667612   \n",
       "Fatigue                   0.095059 -0.116467       0.211724     0.237245   \n",
       "Weight Loss               0.106946 -0.057993       0.258016     0.207851   \n",
       "Shortness of Breath       0.035329 -0.045972       0.269558     0.435785   \n",
       "Wheezing                 -0.095354 -0.076304       0.055368     0.180817   \n",
       "Swallowing Difficulty    -0.105833 -0.058324      -0.080918    -0.114073   \n",
       "Clubbing of Finger Nails  0.039258 -0.034219       0.241065     0.414992   \n",
       "Frequent Cold            -0.012706 -0.000526       0.174539     0.180778   \n",
       "Dry Cough                 0.012265 -0.122677       0.261133     0.210955   \n",
       "Snoring                  -0.004700 -0.181618      -0.021343     0.122694   \n",
       "Level                     0.060048 -0.164985       0.636038     0.718710   \n",
       "\n",
       "                          Dust Allergy  OccuPational Hazards  Genetic Risk  \\\n",
       "Age                           0.035202              0.062177      0.073151   \n",
       "Gender                       -0.204312             -0.192343     -0.222727   \n",
       "Air Pollution                 0.637503              0.608924      0.705276   \n",
       "Alcohol use                   0.818644              0.878786      0.877210   \n",
       "Dust Allergy                  1.000000              0.835860      0.787904   \n",
       "OccuPational Hazards          0.835860              1.000000      0.893049   \n",
       "Genetic Risk                  0.787904              0.893049      1.000000   \n",
       "chronic Lung Disease          0.619556              0.858284      0.836231   \n",
       "Balanced Diet                 0.647197              0.691509      0.679905   \n",
       "Obesity                       0.700676              0.722191      0.729826   \n",
       "Smoking                       0.358691              0.497693      0.543259   \n",
       "Passive Smoker                0.560002              0.555311      0.609071   \n",
       "Chest Pain                    0.639983              0.775619      0.831751   \n",
       "Coughing of Blood             0.625291              0.645947      0.632236   \n",
       "Fatigue                       0.332472              0.267844      0.230530   \n",
       "Weight Loss                   0.321756              0.176226      0.271743   \n",
       "Shortness of Breath           0.518682              0.366482      0.458200   \n",
       "Wheezing                      0.304850              0.178925      0.204973   \n",
       "Swallowing Difficulty         0.031141             -0.002853     -0.062948   \n",
       "Clubbing of Finger Nails      0.345714              0.366447      0.357815   \n",
       "Frequent Cold                 0.219389              0.077166      0.087092   \n",
       "Dry Cough                     0.299932              0.159486      0.194195   \n",
       "Snoring                       0.052844              0.022916     -0.056831   \n",
       "Level                         0.713839              0.673255      0.701303   \n",
       "\n",
       "                          chronic Lung Disease  Balanced Diet   Obesity  ...  \\\n",
       "Age                                   0.128952       0.004863  0.034337  ...   \n",
       "Gender                               -0.205061      -0.099741 -0.123813  ...   \n",
       "Air Pollution                         0.626701       0.524873  0.601468  ...   \n",
       "Alcohol use                           0.763576       0.653352  0.669312  ...   \n",
       "Dust Allergy                          0.619556       0.647197  0.700676  ...   \n",
       "OccuPational Hazards                  0.858284       0.691509  0.722191  ...   \n",
       "Genetic Risk                          0.836231       0.679905  0.729826  ...   \n",
       "chronic Lung Disease                  1.000000       0.622632  0.601754  ...   \n",
       "Balanced Diet                         0.622632       1.000000  0.706922  ...   \n",
       "Obesity                               0.601754       0.706922  1.000000  ...   \n",
       "Smoking                               0.578585       0.645390  0.486795  ...   \n",
       "Passive Smoker                        0.572698       0.725123  0.681889  ...   \n",
       "Chest Pain                            0.782646       0.798207  0.673150  ...   \n",
       "Coughing of Blood                     0.602987       0.745054  0.814805  ...   \n",
       "Fatigue                               0.247697       0.400678  0.552788  ...   \n",
       "Weight Loss                           0.104080      -0.006544  0.313495  ...   \n",
       "Shortness of Breath                   0.182426       0.343623  0.406203  ...   \n",
       "Wheezing                              0.057214       0.063930  0.094287  ...   \n",
       "Swallowing Difficulty                 0.007279       0.046807  0.127213  ...   \n",
       "Clubbing of Finger Nails              0.298023       0.041967  0.149093  ...   \n",
       "Frequent Cold                         0.028759       0.263931  0.288368  ...   \n",
       "Dry Cough                             0.113538       0.331629  0.200160  ...   \n",
       "Snoring                               0.043375       0.152677  0.039422  ...   \n",
       "Level                                 0.609971       0.706273  0.827435  ...   \n",
       "\n",
       "                           Fatigue  Weight Loss  Shortness of Breath  \\\n",
       "Age                       0.095059     0.106946             0.035329   \n",
       "Gender                   -0.116467    -0.057993            -0.045972   \n",
       "Air Pollution             0.211724     0.258016             0.269558   \n",
       "Alcohol use               0.237245     0.207851             0.435785   \n",
       "Dust Allergy              0.332472     0.321756             0.518682   \n",
       "OccuPational Hazards      0.267844     0.176226             0.366482   \n",
       "Genetic Risk              0.230530     0.271743             0.458200   \n",
       "chronic Lung Disease      0.247697     0.104080             0.182426   \n",
       "Balanced Diet             0.400678    -0.006544             0.343623   \n",
       "Obesity                   0.552788     0.313495             0.406203   \n",
       "Smoking                   0.200029    -0.212937            -0.023259   \n",
       "Passive Smoker            0.377919     0.058336             0.062948   \n",
       "Chest Pain                0.251135    -0.001092             0.237045   \n",
       "Coughing of Blood         0.481540     0.105857             0.318777   \n",
       "Fatigue                   1.000000     0.469517             0.398625   \n",
       "Weight Loss               0.469517     1.000000             0.574497   \n",
       "Shortness of Breath       0.398625     0.574497             1.000000   \n",
       "Wheezing                  0.174477     0.331179             0.207564   \n",
       "Swallowing Difficulty     0.149562     0.053384            -0.200477   \n",
       "Clubbing of Finger Nails  0.040694     0.376484             0.474275   \n",
       "Frequent Cold             0.407915     0.160348             0.351489   \n",
       "Dry Cough                 0.271308     0.189131             0.493912   \n",
       "Snoring                   0.231748    -0.189106            -0.159291   \n",
       "Level                     0.625114     0.352738             0.497024   \n",
       "\n",
       "                          Wheezing  Swallowing Difficulty  \\\n",
       "Age                      -0.095354              -0.105833   \n",
       "Gender                   -0.076304              -0.058324   \n",
       "Air Pollution             0.055368              -0.080918   \n",
       "Alcohol use               0.180817              -0.114073   \n",
       "Dust Allergy              0.304850               0.031141   \n",
       "OccuPational Hazards      0.178925              -0.002853   \n",
       "Genetic Risk              0.204973              -0.062948   \n",
       "chronic Lung Disease      0.057214               0.007279   \n",
       "Balanced Diet             0.063930               0.046807   \n",
       "Obesity                   0.094287               0.127213   \n",
       "Smoking                  -0.047060               0.236141   \n",
       "Passive Smoker            0.200283               0.348922   \n",
       "Chest Pain                0.107211               0.071784   \n",
       "Coughing of Blood        -0.085698               0.086289   \n",
       "Fatigue                   0.174477               0.149562   \n",
       "Weight Loss               0.331179               0.053384   \n",
       "Shortness of Breath       0.207564              -0.200477   \n",
       "Wheezing                  1.000000               0.393487   \n",
       "Swallowing Difficulty     0.393487               1.000000   \n",
       "Clubbing of Finger Nails  0.338271              -0.119741   \n",
       "Frequent Cold             0.098855               0.132363   \n",
       "Dry Cough                 0.055091              -0.055518   \n",
       "Snoring                   0.116183               0.210540   \n",
       "Level                     0.242794               0.249142   \n",
       "\n",
       "                          Clubbing of Finger Nails  Frequent Cold  Dry Cough  \\\n",
       "Age                                       0.039258      -0.012706   0.012265   \n",
       "Gender                                   -0.034219      -0.000526  -0.122677   \n",
       "Air Pollution                             0.241065       0.174539   0.261133   \n",
       "Alcohol use                               0.414992       0.180778   0.210955   \n",
       "Dust Allergy                              0.345714       0.219389   0.299932   \n",
       "OccuPational Hazards                      0.366447       0.077166   0.159486   \n",
       "Genetic Risk                              0.357815       0.087092   0.194195   \n",
       "chronic Lung Disease                      0.298023       0.028759   0.113538   \n",
       "Balanced Diet                             0.041967       0.263931   0.331629   \n",
       "Obesity                                   0.149093       0.288368   0.200160   \n",
       "Smoking                                  -0.041147       0.039585   0.009507   \n",
       "Passive Smoker                           -0.035536       0.104553   0.120242   \n",
       "Chest Pain                                0.081386       0.042937   0.141719   \n",
       "Coughing of Blood                        -0.066443       0.244235   0.147117   \n",
       "Fatigue                                   0.040694       0.407915   0.271308   \n",
       "Weight Loss                               0.376484       0.160348   0.189131   \n",
       "Shortness of Breath                       0.474275       0.351489   0.493912   \n",
       "Wheezing                                  0.338271       0.098855   0.055091   \n",
       "Swallowing Difficulty                    -0.119741       0.132363  -0.055518   \n",
       "Clubbing of Finger Nails                  1.000000       0.242529   0.307245   \n",
       "Frequent Cold                             0.242529       1.000000   0.515587   \n",
       "Dry Cough                                 0.307245       0.515587   1.000000   \n",
       "Snoring                                  -0.017537       0.335844   0.175567   \n",
       "Level                                     0.280063       0.444017   0.373642   \n",
       "\n",
       "                           Snoring     Level  \n",
       "Age                      -0.004700  0.060048  \n",
       "Gender                   -0.181618 -0.164985  \n",
       "Air Pollution            -0.021343  0.636038  \n",
       "Alcohol use               0.122694  0.718710  \n",
       "Dust Allergy              0.052844  0.713839  \n",
       "OccuPational Hazards      0.022916  0.673255  \n",
       "Genetic Risk             -0.056831  0.701303  \n",
       "chronic Lung Disease      0.043375  0.609971  \n",
       "Balanced Diet             0.152677  0.706273  \n",
       "Obesity                   0.039422  0.827435  \n",
       "Smoking                   0.189055  0.519530  \n",
       "Passive Smoker            0.247943  0.703594  \n",
       "Chest Pain                0.140036  0.645461  \n",
       "Coughing of Blood         0.087944  0.782092  \n",
       "Fatigue                   0.231748  0.625114  \n",
       "Weight Loss              -0.189106  0.352738  \n",
       "Shortness of Breath      -0.159291  0.497024  \n",
       "Wheezing                  0.116183  0.242794  \n",
       "Swallowing Difficulty     0.210540  0.249142  \n",
       "Clubbing of Finger Nails -0.017537  0.280063  \n",
       "Frequent Cold             0.335844  0.444017  \n",
       "Dry Cough                 0.175567  0.373642  \n",
       "Snoring                   1.000000  0.289366  \n",
       "Level                     0.289366  1.000000  \n",
       "\n",
       "[24 rows x 24 columns]"
      ]
     },
     "execution_count": 12,
     "metadata": {},
     "output_type": "execute_result"
    }
   ],
   "source": [
    "df.corr()"
   ]
  },
  {
   "cell_type": "code",
   "execution_count": 13,
   "id": "18edcbaf",
   "metadata": {},
   "outputs": [
    {
     "data": {
      "text/plain": [
       "<AxesSubplot: >"
      ]
     },
     "execution_count": 13,
     "metadata": {},
     "output_type": "execute_result"
    },
    {
     "data": {
      "image/png": "[encoded data removed]",
      "text/plain": [
       "<Figure size 640x480 with 2 Axes>"
      ]
     },
     "metadata": {},
     "output_type": "display_data"
    }
   ],
   "source": [
    "plt.plot(figsize=(10,10))\n",
    "sns.heatmap(df.corr(),annot=False)"
   ]
  },
  {
   "cell_type": "code",
   "execution_count": 14,
   "id": "8c02a3e7",
   "metadata": {},
   "outputs": [
    {
     "data": {
      "text/plain": [
       "7    187\n",
       "4    172\n",
       "3    171\n",
       "2    121\n",
       "8    119\n",
       "1     71\n",
       "9     60\n",
       "5     50\n",
       "6     49\n",
       "Name: Coughing of Blood, dtype: int64"
      ]
     },
     "execution_count": 14,
     "metadata": {},
     "output_type": "execute_result"
    }
   ],
   "source": [
    "df['Coughing of Blood'].value_counts()"
   ]
  },
  {
   "cell_type": "code",
   "execution_count": 15,
   "id": "b72bf4cc",
   "metadata": {},
   "outputs": [
    {
     "data": {
      "text/plain": [
       "<AxesSubplot: xlabel='Coughing of Blood', ylabel='count'>"
      ]
     },
     "execution_count": 15,
     "metadata": {},
     "output_type": "execute_result"
    },
    {
     "data": {
      "image/png": "[encoded data removed]",
      "text/plain": [
       "<Figure size 640x480 with 1 Axes>"
      ]
     },
     "metadata": {},
     "output_type": "display_data"
    }
   ],
   "source": [
    "sns.countplot(data=df,x='Coughing of Blood')"
   ]
  },
  {
   "cell_type": "code",
   "execution_count": 16,
   "id": "fc20a688",
   "metadata": {},
   "outputs": [
    {
     "data": {
      "text/plain": [
       "<AxesSubplot: xlabel='Passive Smoker', ylabel='count'>"
      ]
     },
     "execution_count": 16,
     "metadata": {},
     "output_type": "execute_result"
    },
    {
     "data": {
      "image/png": "[encoded data removed]",
      "text/plain": [
       "<Figure size 640x480 with 1 Axes>"
      ]
     },
     "metadata": {},
     "output_type": "display_data"
    }
   ],
   "source": [
    "sns.countplot(data=df,x='Passive Smoker')"
   ]
  },
  {
   "cell_type": "code",
   "execution_count": 17,
   "id": "d1daefee",
   "metadata": {},
   "outputs": [
    {
     "data": {
      "text/plain": [
       "<AxesSubplot: xlabel='Obesity', ylabel='count'>"
      ]
     },
     "execution_count": 17,
     "metadata": {},
     "output_type": "execute_result"
    },
    {
     "data": {
      "image/png": "[encoded data removed]",
      "text/plain": [
       "<Figure size 640x480 with 1 Axes>"
      ]
     },
     "metadata": {},
     "output_type": "display_data"
    }
   ],
   "source": [
    "sns.countplot(data=df,x='Obesity')"
   ]
  },
  {
   "cell_type": "code",
   "execution_count": 18,
   "id": "b7496c53",
   "metadata": {},
   "outputs": [
    {
     "data": {
      "text/plain": [
       "<AxesSubplot: xlabel='Dust Allergy', ylabel='count'>"
      ]
     },
     "execution_count": 18,
     "metadata": {},
     "output_type": "execute_result"
    },
    {
     "data": {
      "image/png": "[encoded data removed]",
      "text/plain": [
       "<Figure size 640x480 with 1 Axes>"
      ]
     },
     "metadata": {},
     "output_type": "display_data"
    }
   ],
   "source": [
    "sns.countplot(data=df,x='Dust Allergy')"
   ]
  },
  {
   "cell_type": "code",
   "execution_count": 19,
   "id": "ba1be3ed",
   "metadata": {},
   "outputs": [],
   "source": [
    "x=df[['Coughing of Blood','Passive Smoker','Obesity','Dust Allergy','Genetic Risk']]\n",
    "y=df['Level']\n",
    "X = df[['Coughing of Blood','Passive Smoker','Obesity','Dust Allergy','Genetic Risk', 'Level']]\n",
    "from sklearn.preprocessing import StandardScaler\n",
    "ss=StandardScaler()\n",
    "xs=ss.fit_transform(x)"
   ]
  },
  {
   "cell_type": "code",
   "execution_count": 20,
   "id": "f86dbcbe",
   "metadata": {},
   "outputs": [],
   "source": [
    "import pickle\n",
    "with open('scaler.pkl', 'wb') as file:\n",
    "    pickle.dump(ss, file)"
   ]
  },
  {
   "cell_type": "code",
   "execution_count": 22,
   "id": "1a06320d-5ac7-488a-a773-b2832013a23b",
   "metadata": {},
   "outputs": [
    {
     "data": {
      "text/plain": [
       "<seaborn.axisgrid.PairGrid at 0x157338850>"
      ]
     },
     "execution_count": 22,
     "metadata": {},
     "output_type": "execute_result"
    },
    {
     "data": {
      "image/png": "[encoded data removed]",
      "text/plain": [
       "<Figure size 1308.88x1250 with 30 Axes>"
      ]
     },
     "metadata": {},
     "output_type": "display_data"
    }
   ],
   "source": [
    "sns.pairplot(X,hue=\"Level\",palette=\"rainbow\")"
   ]
  },
  {
   "cell_type": "code",
   "execution_count": null,
   "id": "dfcbb184",
   "metadata": {},
   "outputs": [],
   "source": [
    "from sklearn.model_selection import train_test_split\n",
    "x_train,x_test,y_train,y_test=train_test_split(xs,y,test_size=0.20,random_state=42,shuffle=True)\n",
    "print(x_train.shape)\n",
    "print(y_test.shape)"
   ]
  },
  {
   "cell_type": "code",
   "execution_count": null,
   "id": "13d50b23",
   "metadata": {},
   "outputs": [],
   "source": [
    "print(x_train)\n",
    "print(x_test)"
   ]
  },
  {
   "cell_type": "code",
   "execution_count": null,
   "id": "fa972667",
   "metadata": {},
   "outputs": [],
   "source": [
    "from sklearn.metrics import classification_report\n",
    "from sklearn.linear_model import LogisticRegression\n",
    "from sklearn.model_selection import KFold"
   ]
  },
  {
   "cell_type": "markdown",
   "id": "b72bb1cc",
   "metadata": {},
   "source": [
    "# Logistic Regression"
   ]
  },
  {
   "cell_type": "code",
   "execution_count": null,
   "id": "525cbb15",
   "metadata": {},
   "outputs": [],
   "source": [
    "lr=LogisticRegression()\n",
    "real_model=lr.fit(x_train,y_train)\n",
    "print(real_model.coef_)\n",
    "print(real_model.intercept_)"
   ]
  },
  {
   "cell_type": "code",
   "execution_count": null,
   "id": "bd4a3602",
   "metadata": {},
   "outputs": [],
   "source": [
    "y_pred=real_model.predict(x_test)\n",
    "print(y_pred)"
   ]
  },
  {
   "cell_type": "code",
   "execution_count": null,
   "id": "2f7e32e3",
   "metadata": {},
   "outputs": [],
   "source": [
    "from sklearn.metrics import confusion_matrix\n",
    "from sklearn.metrics import accuracy_score\n",
    "from sklearn.metrics import recall_score\n",
    "from sklearn.metrics import precision_score\n",
    "from sklearn.metrics import f1_score"
   ]
  },
  {
   "cell_type": "code",
   "execution_count": null,
   "id": "ae045db1",
   "metadata": {},
   "outputs": [],
   "source": [
    "confusion_matrix(y_test,y_pred)"
   ]
  },
  {
   "cell_type": "code",
   "execution_count": null,
   "id": "c953598d",
   "metadata": {},
   "outputs": [],
   "source": [
    "a=real_model.predict(x_train)\n",
    "accuracy_score(y_train,a)"
   ]
  },
  {
   "cell_type": "code",
   "execution_count": null,
   "id": "1a139807",
   "metadata": {},
   "outputs": [],
   "source": [
    "precision_score(y_train,a,average='macro')"
   ]
  },
  {
   "cell_type": "code",
   "execution_count": null,
   "id": "b3047a3e",
   "metadata": {},
   "outputs": [],
   "source": [
    "recall_score(y_train,a,average='macro')"
   ]
  },
  {
   "cell_type": "code",
   "execution_count": null,
   "id": "44f312e8",
   "metadata": {},
   "outputs": [],
   "source": [
    "f1_score(y_train,a,average='macro')"
   ]
  },
  {
   "cell_type": "code",
   "execution_count": null,
   "id": "ce837485",
   "metadata": {
    "scrolled": true
   },
   "outputs": [],
   "source": [
    "accuracy_score(y_test, y_pred)"
   ]
  },
  {
   "cell_type": "code",
   "execution_count": null,
   "id": "bea8a83a",
   "metadata": {},
   "outputs": [],
   "source": [
    "recall_score(y_test, y_pred,average='macro')"
   ]
  },
  {
   "cell_type": "code",
   "execution_count": null,
   "id": "283f0659",
   "metadata": {},
   "outputs": [],
   "source": [
    "precision_score(y_test, y_pred,average='macro')"
   ]
  },
  {
   "cell_type": "code",
   "execution_count": null,
   "id": "b2d61af5",
   "metadata": {},
   "outputs": [],
   "source": [
    "f1_score(y_test, y_pred,average='macro')"
   ]
  },
  {
   "cell_type": "code",
   "execution_count": null,
   "id": "7d99fe40",
   "metadata": {
    "scrolled": false
   },
   "outputs": [],
   "source": [
    "print(classification_report(y_test,y_pred))"
   ]
  },
  {
   "cell_type": "markdown",
   "id": "3de7bb13",
   "metadata": {},
   "source": [
    "# KNN"
   ]
  },
  {
   "cell_type": "code",
   "execution_count": null,
   "id": "bd2be48a",
   "metadata": {},
   "outputs": [],
   "source": [
    "from sklearn.neighbors import KNeighborsClassifier"
   ]
  },
  {
   "cell_type": "code",
   "execution_count": null,
   "id": "1b5f7c26",
   "metadata": {},
   "outputs": [],
   "source": [
    "acc = []\n",
    "for k in range(1, 39, 2):\n",
    "    knn = KNeighborsClassifier(n_neighbors= k)\n",
    "    sample_model=knn.fit(x_train,y_train)\n",
    "    y1_pred = sample_model.predict(x_test)\n",
    "    acc.append(accuracy_score(y_test, y1_pred))\n",
    "print(acc)"
   ]
  },
  {
   "cell_type": "code",
   "execution_count": null,
   "id": "ef127138",
   "metadata": {},
   "outputs": [],
   "source": [
    "plt.figure(figsize = (12, 7))\n",
    "plt.plot(range(1, 39, 2), acc)\n",
    "plt.title(\"Acc vs K- Value\")\n",
    "print(f\"maximum accuracy = {max(acc)} at k = {(np.array(acc).argmax())*2 + 1}\")\n",
    "plt.show()"
   ]
  },
  {
   "cell_type": "code",
   "execution_count": null,
   "id": "3aa34194",
   "metadata": {},
   "outputs": [],
   "source": [
    "knn_1=KNeighborsClassifier(n_neighbors=13,metric='manhattan')\n",
    "model_1=knn_1.fit(x_train,y_train)\n",
    "print(model_1)"
   ]
  },
  {
   "cell_type": "code",
   "execution_count": null,
   "id": "97f09b49",
   "metadata": {},
   "outputs": [],
   "source": [
    "x_test[0]"
   ]
  },
  {
   "cell_type": "code",
   "execution_count": null,
   "id": "dd174da2",
   "metadata": {},
   "outputs": [],
   "source": [
    "type(x_test[0])"
   ]
  },
  {
   "cell_type": "code",
   "execution_count": null,
   "id": "6c57d2e2",
   "metadata": {},
   "outputs": [],
   "source": [
    "y2_pred=model_1.predict(x_test)\n",
    "y2_pred"
   ]
  },
  {
   "cell_type": "code",
   "execution_count": null,
   "id": "4e965384",
   "metadata": {},
   "outputs": [],
   "source": [
    "b=model_1.predict(x_train)\n",
    "accuracy_score(y_train,b)"
   ]
  },
  {
   "cell_type": "code",
   "execution_count": null,
   "id": "1983ead8",
   "metadata": {},
   "outputs": [],
   "source": [
    "precision_score(y_train,b,average='macro')"
   ]
  },
  {
   "cell_type": "code",
   "execution_count": null,
   "id": "32b3eb79",
   "metadata": {},
   "outputs": [],
   "source": [
    "recall_score(y_train,b,average='macro')"
   ]
  },
  {
   "cell_type": "code",
   "execution_count": null,
   "id": "2284a717",
   "metadata": {},
   "outputs": [],
   "source": [
    "f1_score(y_train,b,average='macro')"
   ]
  },
  {
   "cell_type": "code",
   "execution_count": null,
   "id": "e9311294",
   "metadata": {},
   "outputs": [],
   "source": [
    "confusion_matrix(y_test,y2_pred)"
   ]
  },
  {
   "cell_type": "code",
   "execution_count": null,
   "id": "17ca1908",
   "metadata": {},
   "outputs": [],
   "source": [
    "accuracy_score(y_test, y2_pred)"
   ]
  },
  {
   "cell_type": "code",
   "execution_count": null,
   "id": "18bc1bc9",
   "metadata": {},
   "outputs": [],
   "source": [
    "recall_score(y_test, y2_pred,average='macro')"
   ]
  },
  {
   "cell_type": "code",
   "execution_count": null,
   "id": "ff599fa1",
   "metadata": {},
   "outputs": [],
   "source": [
    "precision_score(y_test, y2_pred,average='macro')"
   ]
  },
  {
   "cell_type": "code",
   "execution_count": null,
   "id": "32ee7772",
   "metadata": {},
   "outputs": [],
   "source": [
    "f1_score(y_test, y2_pred,average='macro')"
   ]
  },
  {
   "cell_type": "code",
   "execution_count": null,
   "id": "586808e4",
   "metadata": {},
   "outputs": [],
   "source": [
    "print(classification_report(y_test,y2_pred))"
   ]
  },
  {
   "cell_type": "markdown",
   "id": "f1bb19cd",
   "metadata": {},
   "source": [
    "# Naive Bayes Classifier"
   ]
  },
  {
   "cell_type": "code",
   "execution_count": null,
   "id": "73981823",
   "metadata": {},
   "outputs": [],
   "source": [
    "from sklearn.naive_bayes import GaussianNB\n",
    "nb=GaussianNB()\n",
    "model_2=nb.fit(x_train,y_train)\n",
    "print(model_2)"
   ]
  },
  {
   "cell_type": "code",
   "execution_count": null,
   "id": "fe08c66e",
   "metadata": {},
   "outputs": [],
   "source": [
    "y3_pred=model_2.predict(x_test)\n",
    "y3_pred"
   ]
  },
  {
   "cell_type": "code",
   "execution_count": null,
   "id": "dee917ee",
   "metadata": {},
   "outputs": [],
   "source": [
    "confusion_matrix(y_test,y3_pred)"
   ]
  },
  {
   "cell_type": "code",
   "execution_count": null,
   "id": "c068c2fa",
   "metadata": {},
   "outputs": [],
   "source": [
    "c=model_2.predict(x_train)\n",
    "accuracy_score(y_train,c)"
   ]
  },
  {
   "cell_type": "code",
   "execution_count": null,
   "id": "5b9142cb",
   "metadata": {},
   "outputs": [],
   "source": [
    "precision_score(y_train,c,average='macro')"
   ]
  },
  {
   "cell_type": "code",
   "execution_count": null,
   "id": "41624f46",
   "metadata": {},
   "outputs": [],
   "source": [
    "recall_score(y_train,c,average='macro')"
   ]
  },
  {
   "cell_type": "code",
   "execution_count": null,
   "id": "c6ed4ede",
   "metadata": {},
   "outputs": [],
   "source": [
    "f1_score(y_train,c,average='macro')"
   ]
  },
  {
   "cell_type": "code",
   "execution_count": null,
   "id": "73c51acc",
   "metadata": {},
   "outputs": [],
   "source": [
    "print(classification_report(y_test,y3_pred))"
   ]
  },
  {
   "cell_type": "code",
   "execution_count": null,
   "id": "d92aca35",
   "metadata": {},
   "outputs": [],
   "source": [
    "accuracy_score(y_test, y3_pred)"
   ]
  },
  {
   "cell_type": "code",
   "execution_count": null,
   "id": "d917fe04",
   "metadata": {},
   "outputs": [],
   "source": [
    "recall_score(y_test, y3_pred,average='macro')"
   ]
  },
  {
   "cell_type": "code",
   "execution_count": null,
   "id": "34b54e1d",
   "metadata": {},
   "outputs": [],
   "source": [
    "precision_score(y_test, y3_pred,average='macro')"
   ]
  },
  {
   "cell_type": "code",
   "execution_count": null,
   "id": "b8c8172a",
   "metadata": {},
   "outputs": [],
   "source": [
    "f1_score(y_test, y3_pred,average='macro')"
   ]
  },
  {
   "cell_type": "markdown",
   "id": "046949a5",
   "metadata": {},
   "source": [
    "# Decision Tree"
   ]
  },
  {
   "cell_type": "code",
   "execution_count": null,
   "id": "dbaaf40a",
   "metadata": {},
   "outputs": [],
   "source": [
    "from sklearn.tree import DecisionTreeClassifier,plot_tree\n",
    "from sklearn.model_selection import cross_val_score\n",
    "d_tree=DecisionTreeClassifier(criterion='entropy',max_depth=5,min_samples_split=5,min_samples_leaf=3,random_state=42)\n",
    "model_3=d_tree.fit(x_train,y_train)\n",
    "model_3"
   ]
  },
  {
   "cell_type": "code",
   "execution_count": null,
   "id": "2f39f6c6",
   "metadata": {},
   "outputs": [],
   "source": [
    "y4_pred=model_3.predict(x_test)\n",
    "y4_pred"
   ]
  },
  {
   "cell_type": "code",
   "execution_count": null,
   "id": "96015aa2",
   "metadata": {},
   "outputs": [],
   "source": [
    "d=model_3.predict(x_train)\n",
    "accuracy_score(y_train,d)"
   ]
  },
  {
   "cell_type": "code",
   "execution_count": null,
   "id": "b54743d2",
   "metadata": {},
   "outputs": [],
   "source": [
    "precision_score(y_train,d,average='macro')"
   ]
  },
  {
   "cell_type": "code",
   "execution_count": null,
   "id": "974aed62",
   "metadata": {},
   "outputs": [],
   "source": [
    "recall_score(y_train,d,average='macro')"
   ]
  },
  {
   "cell_type": "code",
   "execution_count": null,
   "id": "a6b142a8",
   "metadata": {},
   "outputs": [],
   "source": [
    "f1_score(y_train,d,average='macro')"
   ]
  },
  {
   "cell_type": "code",
   "execution_count": null,
   "id": "239523c9",
   "metadata": {},
   "outputs": [],
   "source": [
    "confusion_matrix(y_test,y4_pred)"
   ]
  },
  {
   "cell_type": "code",
   "execution_count": null,
   "id": "9a76245a",
   "metadata": {},
   "outputs": [],
   "source": [
    "accuracy_score(y_test,y4_pred)"
   ]
  },
  {
   "cell_type": "code",
   "execution_count": null,
   "id": "ebc404d7",
   "metadata": {},
   "outputs": [],
   "source": [
    "recall_score(y_test,y4_pred,average='macro')"
   ]
  },
  {
   "cell_type": "code",
   "execution_count": null,
   "id": "bd39ef6b",
   "metadata": {},
   "outputs": [],
   "source": [
    "precision_score(y_test,y4_pred,average='macro')"
   ]
  },
  {
   "cell_type": "code",
   "execution_count": null,
   "id": "c91fc932",
   "metadata": {},
   "outputs": [],
   "source": [
    "print(classification_report(y_test,y4_pred))"
   ]
  },
  {
   "cell_type": "code",
   "execution_count": null,
   "id": "684d4f13",
   "metadata": {},
   "outputs": [],
   "source": [
    "f1_score(y_test, y4_pred,average='macro')"
   ]
  },
  {
   "cell_type": "markdown",
   "id": "40e21ae5",
   "metadata": {},
   "source": [
    "# Random Forest"
   ]
  },
  {
   "cell_type": "code",
   "execution_count": null,
   "id": "73c5a4fe",
   "metadata": {},
   "outputs": [],
   "source": [
    "from sklearn.ensemble import RandomForestClassifier\n",
    "from sklearn.model_selection import RandomizedSearchCV\n",
    "rf=RandomForestClassifier(criterion='entropy',random_state=42,max_depth=5,min_samples_leaf=3,n_estimators=3)\n",
    "model_4=rf.fit(x_train,y_train)\n",
    "model_4"
   ]
  },
  {
   "cell_type": "code",
   "execution_count": null,
   "id": "902a9999",
   "metadata": {},
   "outputs": [],
   "source": [
    "y5_pred=model_4.predict(x_test)\n",
    "y5_pred"
   ]
  },
  {
   "cell_type": "code",
   "execution_count": null,
   "id": "f989cd87",
   "metadata": {},
   "outputs": [],
   "source": [
    "e=model_4.predict(x_train)\n",
    "accuracy_score(y_train,e)"
   ]
  },
  {
   "cell_type": "code",
   "execution_count": null,
   "id": "a0136fe4",
   "metadata": {},
   "outputs": [],
   "source": [
    "precision_score(y_train,e,average='macro')"
   ]
  },
  {
   "cell_type": "code",
   "execution_count": null,
   "id": "ffa21b20",
   "metadata": {},
   "outputs": [],
   "source": [
    "recall_score(y_train,e,average='macro')"
   ]
  },
  {
   "cell_type": "code",
   "execution_count": null,
   "id": "bc7ddac6",
   "metadata": {},
   "outputs": [],
   "source": [
    "f1_score(y_train,e,average='macro')"
   ]
  },
  {
   "cell_type": "code",
   "execution_count": null,
   "id": "ab58ccb7",
   "metadata": {},
   "outputs": [],
   "source": [
    "accuracy_score(y_test,y5_pred)"
   ]
  },
  {
   "cell_type": "code",
   "execution_count": null,
   "id": "0525c2b1",
   "metadata": {},
   "outputs": [],
   "source": [
    "recall_score(y_test,y5_pred,average='macro')"
   ]
  },
  {
   "cell_type": "code",
   "execution_count": null,
   "id": "7081ac98",
   "metadata": {},
   "outputs": [],
   "source": [
    "print(classification_report(y_test,y5_pred))"
   ]
  },
  {
   "cell_type": "code",
   "execution_count": null,
   "id": "a143ce28",
   "metadata": {},
   "outputs": [],
   "source": [
    "precision_score(y_test,y5_pred,average='macro')"
   ]
  },
  {
   "cell_type": "code",
   "execution_count": null,
   "id": "7b316fb1",
   "metadata": {},
   "outputs": [],
   "source": [
    "f1_score(y_test, y5_pred,average='macro')"
   ]
  },
  {
   "cell_type": "markdown",
   "id": "8a1038a8",
   "metadata": {},
   "source": [
    "# Support Vector Machines"
   ]
  },
  {
   "cell_type": "code",
   "execution_count": null,
   "id": "eea06d04",
   "metadata": {},
   "outputs": [],
   "source": [
    "from sklearn.svm import SVC\n",
    "sc=SVC()\n",
    "model_5=sc.fit(x_train,y_train)\n",
    "model_5"
   ]
  },
  {
   "cell_type": "code",
   "execution_count": null,
   "id": "e8fcdbef",
   "metadata": {},
   "outputs": [],
   "source": [
    "y6_pred=model_5.predict(x_test)\n",
    "y6_pred"
   ]
  },
  {
   "cell_type": "code",
   "execution_count": null,
   "id": "03755b78",
   "metadata": {},
   "outputs": [],
   "source": [
    "f=model_5.predict(x_train)\n",
    "accuracy_score(y_train,f)"
   ]
  },
  {
   "cell_type": "code",
   "execution_count": null,
   "id": "06f12eb7",
   "metadata": {},
   "outputs": [],
   "source": [
    "precision_score(y_train,f,average='macro')"
   ]
  },
  {
   "cell_type": "code",
   "execution_count": null,
   "id": "eabdeede",
   "metadata": {},
   "outputs": [],
   "source": [
    "recall_score(y_train,f,average='macro')"
   ]
  },
  {
   "cell_type": "code",
   "execution_count": null,
   "id": "077af93b",
   "metadata": {},
   "outputs": [],
   "source": [
    "f1_score(y_train,f,average='macro')"
   ]
  },
  {
   "cell_type": "code",
   "execution_count": null,
   "id": "90486a5d",
   "metadata": {},
   "outputs": [],
   "source": [
    "accuracy_score(y_test,y6_pred)"
   ]
  },
  {
   "cell_type": "code",
   "execution_count": null,
   "id": "cd178a5e",
   "metadata": {},
   "outputs": [],
   "source": [
    "precision_score(y_test,y6_pred,average='macro')"
   ]
  },
  {
   "cell_type": "code",
   "execution_count": null,
   "id": "61445fa0",
   "metadata": {},
   "outputs": [],
   "source": [
    "recall_score(y_test,y6_pred,average='macro')"
   ]
  },
  {
   "cell_type": "code",
   "execution_count": null,
   "id": "872c1855",
   "metadata": {},
   "outputs": [],
   "source": [
    "print(classification_report(y_test,y6_pred))"
   ]
  },
  {
   "cell_type": "code",
   "execution_count": null,
   "id": "7d36ee16",
   "metadata": {},
   "outputs": [],
   "source": [
    "f1_score(y_test, y6_pred,average='macro')"
   ]
  },
  {
   "cell_type": "markdown",
   "id": "6c8d2e10",
   "metadata": {},
   "source": [
    "# PCA"
   ]
  },
  {
   "cell_type": "code",
   "execution_count": null,
   "id": "75f49426",
   "metadata": {},
   "outputs": [],
   "source": [
    "from sklearn.decomposition import PCA\n",
    "pca=PCA(n_components=3)\n",
    "x1_pca_train=pca.fit_transform(x_train)\n",
    "x1_pca_test=pca.fit_transform(x_test)\n",
    "print(x1_pca_train)\n",
    "print(x1_pca_test)"
   ]
  },
  {
   "cell_type": "markdown",
   "id": "8dec4a42",
   "metadata": {},
   "source": [
    "# Logistic_Regression"
   ]
  },
  {
   "cell_type": "code",
   "execution_count": null,
   "id": "80629ea3",
   "metadata": {},
   "outputs": [],
   "source": [
    "pca_log=LogisticRegression()\n",
    "model_6=pca_log.fit(x1_pca_train,y_train)\n",
    "print(model_6.coef_)\n",
    "print(model_6.intercept_)"
   ]
  },
  {
   "cell_type": "code",
   "execution_count": null,
   "id": "cad09eb7",
   "metadata": {},
   "outputs": [],
   "source": [
    "y7_pred=model_6.predict(x1_pca_test)\n",
    "y7_pred"
   ]
  },
  {
   "cell_type": "markdown",
   "id": "3ce02dc4",
   "metadata": {},
   "source": [
    "# Testing_Parameters"
   ]
  },
  {
   "cell_type": "code",
   "execution_count": null,
   "id": "1f9ec788",
   "metadata": {},
   "outputs": [],
   "source": [
    "accuracy_score(y7_pred,y_test)"
   ]
  },
  {
   "cell_type": "code",
   "execution_count": null,
   "id": "1d6bdbcb",
   "metadata": {},
   "outputs": [],
   "source": [
    "precision_score(y7_pred,y_test,average='macro')"
   ]
  },
  {
   "cell_type": "code",
   "execution_count": null,
   "id": "98200680",
   "metadata": {},
   "outputs": [],
   "source": [
    "recall_score(y7_pred,y_test,average='macro')"
   ]
  },
  {
   "cell_type": "code",
   "execution_count": null,
   "id": "e3282480",
   "metadata": {},
   "outputs": [],
   "source": [
    "f1_score(y7_pred,y_test,average='macro')"
   ]
  },
  {
   "cell_type": "code",
   "execution_count": null,
   "id": "546d13bd",
   "metadata": {},
   "outputs": [],
   "source": [
    "print(classification_report(y7_pred,y_test))"
   ]
  },
  {
   "cell_type": "markdown",
   "id": "c63feaf1",
   "metadata": {},
   "source": [
    "# Training_Parameters"
   ]
  },
  {
   "cell_type": "code",
   "execution_count": null,
   "id": "e5959c5b",
   "metadata": {},
   "outputs": [],
   "source": [
    "g=model_6.predict(x1_pca_train)\n",
    "print(g)"
   ]
  },
  {
   "cell_type": "code",
   "execution_count": null,
   "id": "22d93eba",
   "metadata": {},
   "outputs": [],
   "source": [
    "accuracy_score(g,y_train)"
   ]
  },
  {
   "cell_type": "code",
   "execution_count": null,
   "id": "57b5742d",
   "metadata": {},
   "outputs": [],
   "source": [
    "precision_score(g,y_train,average='macro')"
   ]
  },
  {
   "cell_type": "code",
   "execution_count": null,
   "id": "ca3185de",
   "metadata": {},
   "outputs": [],
   "source": [
    "recall_score(g,y_train,average='macro')"
   ]
  },
  {
   "cell_type": "code",
   "execution_count": null,
   "id": "37e7110e",
   "metadata": {},
   "outputs": [],
   "source": [
    "f1_score(g,y_train,average='macro')"
   ]
  },
  {
   "cell_type": "markdown",
   "id": "70469b2e",
   "metadata": {},
   "source": [
    "# KNN"
   ]
  },
  {
   "cell_type": "code",
   "execution_count": null,
   "id": "c081c440",
   "metadata": {},
   "outputs": [],
   "source": [
    "acc = []\n",
    "for k in range(1, 39, 2):\n",
    "    knn = KNeighborsClassifier(n_neighbors= k)\n",
    "    sample_model=knn.fit(x1_pca_train,y_train)\n",
    "    y1_pred = sample_model.predict(x1_pca_test)\n",
    "    acc.append(accuracy_score(y_test, y1_pred))\n",
    "print(acc)"
   ]
  },
  {
   "cell_type": "code",
   "execution_count": null,
   "id": "b48f9ff1-870e-4809-aaa5-594d34f24331",
   "metadata": {},
   "outputs": [],
   "source": [
    "plt.figure(figsize = (12, 7))\n",
    "plt.plot(range(1, 39, 2), acc)\n",
    "plt.title(\"Acc vs K- Value\")\n",
    "print(f\"maximum accuracy = {max(acc)} at k = {(np.array(acc).argmax())*2 + 1}\")\n",
    "plt.show()"
   ]
  },
  {
   "cell_type": "code",
   "execution_count": null,
   "id": "527de744",
   "metadata": {},
   "outputs": [],
   "source": [
    "knn_2=KNeighborsClassifier(n_neighbors=13,metric='manhattan')\n",
    "model_7=knn_2.fit(x1_pca_train,y_train)\n",
    "print(model_7)"
   ]
  },
  {
   "cell_type": "code",
   "execution_count": null,
   "id": "39563d4c",
   "metadata": {},
   "outputs": [],
   "source": [
    "y8_pred=model_7.predict(x1_pca_test)\n",
    "print(y8_pred)"
   ]
  },
  {
   "cell_type": "markdown",
   "id": "bdc52b47",
   "metadata": {},
   "source": [
    "# Testing_Parameters"
   ]
  },
  {
   "cell_type": "code",
   "execution_count": null,
   "id": "ebf7f9b3",
   "metadata": {},
   "outputs": [],
   "source": [
    "accuracy_score(y8_pred,y_test)"
   ]
  },
  {
   "cell_type": "code",
   "execution_count": null,
   "id": "c23e4092",
   "metadata": {},
   "outputs": [],
   "source": [
    "precision_score(y8_pred,y_test,average='macro')"
   ]
  },
  {
   "cell_type": "code",
   "execution_count": null,
   "id": "4d119f2d",
   "metadata": {},
   "outputs": [],
   "source": [
    "recall_score(y8_pred,y_test,average='macro')"
   ]
  },
  {
   "cell_type": "code",
   "execution_count": null,
   "id": "1a007c8a",
   "metadata": {},
   "outputs": [],
   "source": [
    "f1_score(y8_pred,y_test,average='macro')"
   ]
  },
  {
   "cell_type": "code",
   "execution_count": null,
   "id": "5ece0329",
   "metadata": {},
   "outputs": [],
   "source": [
    "print(classification_report(y8_pred,y_test))"
   ]
  },
  {
   "cell_type": "markdown",
   "id": "21397f87",
   "metadata": {},
   "source": [
    "# Training Parameters"
   ]
  },
  {
   "cell_type": "code",
   "execution_count": null,
   "id": "62ad1b05",
   "metadata": {},
   "outputs": [],
   "source": [
    "h=model_7.predict(x1_pca_train)"
   ]
  },
  {
   "cell_type": "code",
   "execution_count": null,
   "id": "514122d6",
   "metadata": {},
   "outputs": [],
   "source": [
    "accuracy_score(h,y_train)"
   ]
  },
  {
   "cell_type": "code",
   "execution_count": null,
   "id": "89196b72",
   "metadata": {},
   "outputs": [],
   "source": [
    "precision_score(h,y_train,average='macro')"
   ]
  },
  {
   "cell_type": "code",
   "execution_count": null,
   "id": "75cbc379-72bf-4165-a4ad-cab18aada28b",
   "metadata": {},
   "outputs": [],
   "source": [
    "recall_score(h,y_train,average='macro')"
   ]
  },
  {
   "cell_type": "code",
   "execution_count": null,
   "id": "f89a58ba-5515-4f79-ad0f-dc3b87cc6596",
   "metadata": {},
   "outputs": [],
   "source": [
    "f1_score(h,y_train,average='macro')"
   ]
  },
  {
   "cell_type": "code",
   "execution_count": null,
   "id": "161bbb22-a6fd-4fd5-a8a4-8f01cc013af7",
   "metadata": {},
   "outputs": [],
   "source": [
    "print(classification_report(h,y_train))"
   ]
  },
  {
   "cell_type": "markdown",
   "id": "ae93b76b-0e7f-4878-bd36-4b3338436b92",
   "metadata": {},
   "source": [
    "# Naive Bayes\n"
   ]
  },
  {
   "cell_type": "code",
   "execution_count": null,
   "id": "f0238ff6-41c4-42b2-91c6-6642e8ec7d70",
   "metadata": {},
   "outputs": [],
   "source": [
    "nb1=GaussianNB()\n",
    "model_8=nb1.fit(x1_pca_train,y_train)\n",
    "print(model_8)"
   ]
  },
  {
   "cell_type": "code",
   "execution_count": null,
   "id": "2381a623-53d4-4be3-9ab3-d019c6207b48",
   "metadata": {},
   "outputs": [],
   "source": [
    "y9_pred=model_8.predict(x1_pca_test)\n",
    "y9_pred"
   ]
  },
  {
   "cell_type": "markdown",
   "id": "350ce2e0-9d7b-4f63-8d52-d1a2b48294a0",
   "metadata": {},
   "source": [
    "# Testing Parameters"
   ]
  },
  {
   "cell_type": "code",
   "execution_count": null,
   "id": "73991f2b-25cb-406f-95cd-8689436906e7",
   "metadata": {},
   "outputs": [],
   "source": [
    "accuracy_score(y9_pred,y_test)"
   ]
  },
  {
   "cell_type": "code",
   "execution_count": null,
   "id": "d85cec99-aedd-4a54-b853-78281f443127",
   "metadata": {},
   "outputs": [],
   "source": [
    "precision_score(y9_pred,y_test,average='macro')"
   ]
  },
  {
   "cell_type": "code",
   "execution_count": null,
   "id": "0403db33-4173-49cc-b69c-e68d68d97325",
   "metadata": {},
   "outputs": [],
   "source": [
    "recall_score(y9_pred,y_test,average='macro')"
   ]
  },
  {
   "cell_type": "code",
   "execution_count": null,
   "id": "0d01ef3e-7061-4764-8ed1-34fa0ddf822d",
   "metadata": {},
   "outputs": [],
   "source": [
    "f1_score(y9_pred,y_test,average='macro')"
   ]
  },
  {
   "cell_type": "code",
   "execution_count": null,
   "id": "4d5b0163-834d-4c4b-ae3a-827422a2d6af",
   "metadata": {},
   "outputs": [],
   "source": [
    "print(classification_report(y9_pred,y_test))"
   ]
  },
  {
   "cell_type": "markdown",
   "id": "01bef5b6-563e-46fd-8fa7-6113691a23f9",
   "metadata": {},
   "source": [
    "# Training Parameters"
   ]
  },
  {
   "cell_type": "code",
   "execution_count": null,
   "id": "4bffd682-287c-405a-8fb6-9f9e315216e8",
   "metadata": {},
   "outputs": [],
   "source": [
    "i=model_8.predict(x1_pca_train)\n",
    "print(i)"
   ]
  },
  {
   "cell_type": "code",
   "execution_count": null,
   "id": "039bac66-3d34-4dfa-b7f9-3283111e20b4",
   "metadata": {},
   "outputs": [],
   "source": [
    "accuracy_score(i,y_train)"
   ]
  },
  {
   "cell_type": "code",
   "execution_count": null,
   "id": "c7c5248b-407d-484d-9784-bf50039db8df",
   "metadata": {},
   "outputs": [],
   "source": [
    "precision_score(i,y_train,average='macro')"
   ]
  },
  {
   "cell_type": "code",
   "execution_count": null,
   "id": "c1d8a3f2-223f-4d97-807f-369327bdc094",
   "metadata": {},
   "outputs": [],
   "source": [
    "recall_score(i,y_train,average='macro')"
   ]
  },
  {
   "cell_type": "code",
   "execution_count": null,
   "id": "d7926f68-c1c1-4156-8bf2-5760f3cf83ef",
   "metadata": {},
   "outputs": [],
   "source": [
    "f1_score(i,y_train,average='macro')"
   ]
  },
  {
   "cell_type": "code",
   "execution_count": null,
   "id": "57d6f3d3-270c-42f3-aef4-c6e726fa5e69",
   "metadata": {},
   "outputs": [],
   "source": [
    "print(classification_report(i,y_train))"
   ]
  },
  {
   "cell_type": "markdown",
   "id": "d258bdb6-a6c4-4dc9-8e76-a26bbff1aa3f",
   "metadata": {},
   "source": [
    "# Decision Tree"
   ]
  },
  {
   "cell_type": "code",
   "execution_count": null,
   "id": "1865d41e-9975-40ca-9017-7d84c2d4e6ee",
   "metadata": {},
   "outputs": [],
   "source": [
    "d1_tree=DecisionTreeClassifier(criterion='entropy',max_depth=4,min_samples_split=4,min_samples_leaf=3,random_state=42)"
   ]
  },
  {
   "cell_type": "code",
   "execution_count": null,
   "id": "f7d31edd-6a6e-4749-92ba-937f45691329",
   "metadata": {},
   "outputs": [],
   "source": [
    "model_9=d1_tree.fit(x1_pca_train,y_train)\n",
    "print(model_9)"
   ]
  },
  {
   "cell_type": "code",
   "execution_count": null,
   "id": "4e39c3a1-6e32-437d-9a79-8049901e476b",
   "metadata": {},
   "outputs": [],
   "source": [
    "y10_pred=model_9.predict(x1_pca_test)\n",
    "y10_pred"
   ]
  },
  {
   "cell_type": "code",
   "execution_count": null,
   "id": "9bf21d28-52c0-4f8f-a21d-66866259deda",
   "metadata": {},
   "outputs": [],
   "source": [
    "fig_1 = plt.figure(figsize=(30,30))\n",
    "tree_1=plot_tree(model_9,filled=True)"
   ]
  },
  {
   "cell_type": "markdown",
   "id": "400cc93f-b5e8-44d6-a98d-2252d154045d",
   "metadata": {},
   "source": [
    "# Testing Parameters"
   ]
  },
  {
   "cell_type": "code",
   "execution_count": null,
   "id": "146227ee-ce2f-4c3b-bc38-b35b79a8677e",
   "metadata": {},
   "outputs": [],
   "source": [
    "accuracy_score(y10_pred,y_test)"
   ]
  },
  {
   "cell_type": "code",
   "execution_count": null,
   "id": "aa69ce61-1809-49b3-b3df-cefefd2a9e70",
   "metadata": {},
   "outputs": [],
   "source": [
    "precision_score(y10_pred,y_test,average='macro')"
   ]
  },
  {
   "cell_type": "code",
   "execution_count": null,
   "id": "1ce3bc01-5f73-4e1e-9e90-de00d700e97e",
   "metadata": {},
   "outputs": [],
   "source": [
    "recall_score(y10_pred,y_test,average='macro')"
   ]
  },
  {
   "cell_type": "code",
   "execution_count": null,
   "id": "4ca55d01-f325-449f-bf2e-c192fe3d2703",
   "metadata": {},
   "outputs": [],
   "source": [
    "f1_score(y10_pred,y_test,average='macro')"
   ]
  },
  {
   "cell_type": "code",
   "execution_count": null,
   "id": "5782216f-5ac7-41bc-833d-28b731f0cf8f",
   "metadata": {},
   "outputs": [],
   "source": [
    "print(classification_report(y10_pred,y_test))"
   ]
  },
  {
   "cell_type": "markdown",
   "id": "414c2434-3870-46d1-bd81-f0da6870d097",
   "metadata": {},
   "source": [
    "# Training Accuracy"
   ]
  },
  {
   "cell_type": "code",
   "execution_count": null,
   "id": "6c009ce0-bab2-4a12-a8e4-acb1f5860ada",
   "metadata": {},
   "outputs": [],
   "source": [
    "j=model_9.predict(x1_pca_train)\n",
    "accuracy_score(j,y_train)"
   ]
  },
  {
   "cell_type": "code",
   "execution_count": null,
   "id": "1b9e007d-d1fe-4e63-92e9-6346150b6e73",
   "metadata": {},
   "outputs": [],
   "source": [
    "print(classification_report(j,y_train))"
   ]
  },
  {
   "cell_type": "markdown",
   "id": "8567d05c-5974-4b3e-a6df-99b8084c4ec3",
   "metadata": {},
   "source": [
    "# Random Forest"
   ]
  },
  {
   "cell_type": "code",
   "execution_count": null,
   "id": "fdc94b34-b602-4cc3-bf5a-1d323face862",
   "metadata": {},
   "outputs": [],
   "source": [
    "rf_1=RandomForestClassifier(criterion='entropy',random_state=42,max_depth=5,min_samples_leaf=3,n_estimators=3)\n",
    "model_10=rf_1.fit(x1_pca_train,y_train)"
   ]
  },
  {
   "cell_type": "code",
   "execution_count": null,
   "id": "3791e13f-a3fa-4235-a208-a0e3697bb972",
   "metadata": {},
   "outputs": [],
   "source": [
    "y11_pred=model_10.predict(x1_pca_test)\n",
    "y11_pred"
   ]
  },
  {
   "cell_type": "markdown",
   "id": "37daff2d-04a6-4dd9-bc6c-8a3732309111",
   "metadata": {},
   "source": [
    "# Testing Parameters"
   ]
  },
  {
   "cell_type": "code",
   "execution_count": null,
   "id": "bca0bbdd-cbb9-4c92-9df9-d92863fe3583",
   "metadata": {},
   "outputs": [],
   "source": [
    "accuracy_score(y11_pred,y_test)"
   ]
  },
  {
   "cell_type": "code",
   "execution_count": null,
   "id": "dda2b540-3668-430b-ad63-83850b95e45b",
   "metadata": {},
   "outputs": [],
   "source": [
    "print(classification_report(y11_pred,y_test))"
   ]
  },
  {
   "cell_type": "markdown",
   "id": "cb7224a5-bb8b-4804-9eec-027b44153276",
   "metadata": {},
   "source": [
    "# Training Parameters"
   ]
  },
  {
   "cell_type": "code",
   "execution_count": null,
   "id": "5640b94b-2ecf-42d8-a93a-bc2d8a4f5240",
   "metadata": {},
   "outputs": [],
   "source": [
    "k=model_10.predict(x1_pca_train)\n",
    "accuracy_score(k,y_train)"
   ]
  },
  {
   "cell_type": "code",
   "execution_count": null,
   "id": "190e6dcc-4a4c-4539-b2ac-49514b186461",
   "metadata": {},
   "outputs": [],
   "source": [
    "print(classification_report(k,y_train))"
   ]
  },
  {
   "cell_type": "markdown",
   "id": "4158ebb3-7319-400a-bc00-b49f8cea09d0",
   "metadata": {},
   "source": [
    "# SVM"
   ]
  },
  {
   "cell_type": "code",
   "execution_count": null,
   "id": "6cc9fce7-3b9b-4f1e-839b-9cd40a972cac",
   "metadata": {},
   "outputs": [],
   "source": [
    "sc_1=SVC()\n",
    "model_11=sc_1.fit(x1_pca_train,y_train)"
   ]
  },
  {
   "cell_type": "code",
   "execution_count": null,
   "id": "9b9dde83-f5a8-484d-9212-213bc47bb8fc",
   "metadata": {},
   "outputs": [],
   "source": [
    "y12_pred=model_11.predict(x1_pca_test)\n",
    "y12_pred"
   ]
  },
  {
   "cell_type": "markdown",
   "id": "07355c30-1edc-410d-b4a8-a9babe8a3cfe",
   "metadata": {},
   "source": [
    "# Testing Parameters"
   ]
  },
  {
   "cell_type": "code",
   "execution_count": null,
   "id": "3fc0b9cb-a79d-4307-ab52-68d5d026651d",
   "metadata": {},
   "outputs": [],
   "source": [
    "accuracy_score(y12_pred,y_test)"
   ]
  },
  {
   "cell_type": "code",
   "execution_count": null,
   "id": "7d5463bb-5d2e-491d-a145-3238d0ce6707",
   "metadata": {},
   "outputs": [],
   "source": [
    "print(classification_report(y12_pred,y_test))"
   ]
  },
  {
   "cell_type": "markdown",
   "id": "4f0f466f-d4fa-44b9-b128-989dbcde3292",
   "metadata": {},
   "source": [
    "# Training Parameters"
   ]
  },
  {
   "cell_type": "code",
   "execution_count": null,
   "id": "7c039fcb-e868-4f3d-86cf-ef066d890353",
   "metadata": {},
   "outputs": [],
   "source": [
    "l=model_11.predict(x1_pca_train)\n",
    "accuracy_score(l,y_train)"
   ]
  },
  {
   "cell_type": "code",
   "execution_count": null,
   "id": "3b97aea6-ddd4-40a6-a9b7-a9f788668319",
   "metadata": {},
   "outputs": [],
   "source": [
    "print(classification_report(l,y_train))"
   ]
  },
  {
   "cell_type": "markdown",
   "id": "e10c39a1",
   "metadata": {},
   "source": [
    "# Exporting KNN Model"
   ]
  },
  {
   "cell_type": "code",
   "execution_count": null,
   "id": "c1be8fde",
   "metadata": {},
   "outputs": [],
   "source": [
    "import pickle"
   ]
  },
  {
   "cell_type": "code",
   "execution_count": null,
   "id": "2add2bb0",
   "metadata": {},
   "outputs": [],
   "source": [
    "with open('knn_with_pca.pkl', 'wb') as file:\n",
    "    pickle.dump(model_1, file)"
   ]
  },
  {
   "cell_type": "code",
   "execution_count": null,
   "id": "6b7f6c06",
   "metadata": {},
   "outputs": [],
   "source": [
    "with open('scaler.pkl', 'wb') as file:\n",
    "    pickle.dump(ss, file)"
   ]
  },
  {
   "cell_type": "code",
   "execution_count": null,
   "id": "4e0774d2",
   "metadata": {},
   "outputs": [],
   "source": []
  }
 ],
 "metadata": {
  "kernelspec": {
   "display_name": "Python 3 (ipykernel)",
   "language": "python",
   "name": "python3"
  },
  "language_info": {
   "codemirror_mode": {
    "name": "ipython",
    "version": 3
   },
   "file_extension": ".py",
   "mimetype": "text/x-python",
   "name": "python",
   "nbconvert_exporter": "python",
   "pygments_lexer": "ipython3",
   "version": "3.11.0"
  }
 },
 "nbformat": 4,
 "nbformat_minor": 5
}
